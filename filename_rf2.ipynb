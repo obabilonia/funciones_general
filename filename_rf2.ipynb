{
  "nbformat": 4,
  "nbformat_minor": 0,
  "metadata": {
    "colab": {
      "name": "filename_rf2.ipynb",
      "version": "0.3.2",
      "provenance": [],
      "collapsed_sections": [],
      "include_colab_link": true
    }
  },
  "cells": [
    {
      "cell_type": "markdown",
      "metadata": {
        "id": "view-in-github",
        "colab_type": "text"
      },
      "source": [
        "<a href=\"https://colab.research.google.com/github/obabilonia/test1/blob/master/filename_rf2.ipynb\" target=\"_parent\"><img src=\"https://colab.research.google.com/assets/colab-badge.svg\" alt=\"Open In Colab\"/></a>"
      ]
    },
    {
      "metadata": {
        "id": "dL73LXhNciYx",
        "colab_type": "code",
        "colab": {
          "base_uri": "https://localhost:8080/",
          "height": 224
        },
        "outputId": "9176c173-5dec-4210-e45a-b0c30ae1ce01"
      },
      "cell_type": "code",
      "source": [
        "print(\"preparando ambiente\")\n",
        "#!pip install pyvirtualdisplay\n",
        "!pip install unidecode\n",
        "!pip install lxml\n",
        "#!wget https://github.com/denadai2/google_street_view_deep_neural/archive/master.zip\n",
        "#!unzip master.zip\n",
        "#!mv google_street_view_deep_neural-master/* .\n",
        "#!wget https://ndownloader.figshare.com/files/11086517\n",
        "#!mv 11086517 generated_files/pytorch_state.npy\n",
        "#!pip install torchvision\n",
        "#!pip install Pillow==4.0.0\n",
        "#!pip install image\n",
        "#!mkdir images\n",
        "#!wget http://cs.famaf.unc.edu.ar/~ccardellino/SBWCE/SBW-vectors-300-min5.txt.bz2\n",
        "#!bzip2 -d SBW-vectors-300-min5.txt.bz2"
      ],
      "execution_count": 4,
      "outputs": [
        {
          "output_type": "stream",
          "text": [
            "preparando ambiente\n",
            "Collecting unidecode\n",
            "\u001b[?25l  Downloading https://files.pythonhosted.org/packages/31/39/53096f9217b057cb049fe872b7fc7ce799a1a89b76cf917d9639e7a558b5/Unidecode-1.0.23-py2.py3-none-any.whl (237kB)\n",
            "\u001b[K    100% |████████████████████████████████| 245kB 11.3MB/s \n",
            "\u001b[?25hInstalling collected packages: unidecode\n",
            "Successfully installed unidecode-1.0.23\n",
            "Collecting lxml\n",
            "\u001b[?25l  Downloading https://files.pythonhosted.org/packages/e5/14/f4343239f955442da9da1919a99f7311bc5627522741bada61b2349c8def/lxml-4.2.5-cp27-cp27mu-manylinux1_x86_64.whl (5.8MB)\n",
            "\u001b[K    100% |████████████████████████████████| 5.8MB 4.0MB/s \n",
            "\u001b[?25hInstalling collected packages: lxml\n",
            "Successfully installed lxml-4.2.5\n"
          ],
          "name": "stdout"
        }
      ]
    },
    {
      "metadata": {
        "id": "Mak6bD7fciY3",
        "colab_type": "code",
        "colab": {
          "base_uri": "https://localhost:8080/",
          "height": 224
        },
        "outputId": "52ac7cf6-99c5-4538-8328-c1833e4ccb86"
      },
      "cell_type": "code",
      "source": [
        "!wget -O Oscar3.py https://raw.githubusercontent.com/obabilonia/test1/master/Oscar.py"
      ],
      "execution_count": 2,
      "outputs": [
        {
          "output_type": "stream",
          "text": [
            "--2018-12-01 11:06:46--  https://raw.githubusercontent.com/obabilonia/test1/master/Oscar.py\n",
            "Resolving raw.githubusercontent.com (raw.githubusercontent.com)... 151.101.0.133, 151.101.64.133, 151.101.128.133, ...\n",
            "Connecting to raw.githubusercontent.com (raw.githubusercontent.com)|151.101.0.133|:443... connected.\n",
            "HTTP request sent, awaiting response... 200 OK\n",
            "Length: 5175 (5.1K) [text/plain]\n",
            "Saving to: ‘Oscar3.py’\n",
            "\n",
            "\rOscar3.py             0%[                    ]       0  --.-KB/s               \rOscar3.py           100%[===================>]   5.05K  --.-KB/s    in 0s      \n",
            "\n",
            "2018-12-01 11:06:47 (58.4 MB/s) - ‘Oscar3.py’ saved [5175/5175]\n",
            "\n"
          ],
          "name": "stdout"
        }
      ]
    },
    {
      "metadata": {
        "id": "e49YiztdciY6",
        "colab_type": "code",
        "colab": {}
      },
      "cell_type": "code",
      "source": [
        "import Oscar3"
      ],
      "execution_count": 0,
      "outputs": []
    },
    {
      "metadata": {
        "id": "8zVSa-6DciY9",
        "colab_type": "code",
        "colab": {}
      },
      "cell_type": "code",
      "source": [
        "import lxml\n",
        "import requests\n",
        "import pandas as pd\n",
        "import os\n",
        "#from selenium import webdriver\n",
        "#from selenium.webdriver.support.ui import Select\n",
        "import time\n",
        "from PIL import Image\n",
        "import subprocess\n",
        "#import commands\n",
        "import pickle\n",
        "#from selenium.webdriver.chrome.options import Options\n",
        "#from pyvirtualdisplay import Display\n",
        "from IPython.display import clear_output\n",
        "import matplotlib.pyplot as plt\n",
        "from unidecode import unidecode\n",
        "%matplotlib inline"
      ],
      "execution_count": 0,
      "outputs": []
    },
    {
      "metadata": {
        "id": "0y9T9StAciZA",
        "colab_type": "code",
        "colab": {}
      },
      "cell_type": "code",
      "source": [
        "import numpy as np\n",
        "#import torch\n",
        "#import torch.nn as nn\n",
        "from PIL import Image\n",
        "%matplotlib inline\n",
        "from matplotlib.pyplot import imshow\n",
        "\n",
        "#from torch.utils.data import Dataset, DataLoader\n",
        "#from torch.autograd import Variable\n",
        "#from torchvision import transforms, utils\n",
        "\n",
        "from PIL import Image\n",
        "import requests\n",
        "from io import BytesIO\n",
        "from matplotlib.pyplot import imshow"
      ],
      "execution_count": 0,
      "outputs": []
    },
    {
      "metadata": {
        "id": "1UZ0axX9ciZD",
        "colab_type": "code",
        "colab": {
          "base_uri": "https://localhost:8080/",
          "height": 377
        },
        "outputId": "4745059e-8393-40b6-bd96-499d81c6ba13"
      },
      "cell_type": "code",
      "source": [
        "!curl \"https://raw.githubusercontent.com/andreafabrizi/Dropbox-Uploader/master/dropbox_uploader.sh\" -o dropbox_uploader.sh\n",
        "\n",
        "\n",
        "!chmod +x dropbox_uploader.sh\n",
        "!./dropbox_uploader.sh\n",
        "#iJMCDCbjLNIAAAAAAAANHFZu-tNNmw6FXMABCQuh-2f03xDCxv33TFd9yO0XQlqE\n",
        "#%notebook ./filename.ipynb\n",
        "#!./dropbox_uploader.sh upload filename.ipynb /"
      ],
      "execution_count": 9,
      "outputs": [
        {
          "output_type": "stream",
          "text": [
            "  % Total    % Received % Xferd  Average Speed   Time    Time     Time  Current\n",
            "                                 Dload  Upload   Total   Spent    Left  Speed\n",
            "\r  0     0    0     0    0     0      0      0 --:--:-- --:--:-- --:--:--     0\r100 49655  100 49655    0     0   275k      0 --:--:-- --:--:-- --:--:--  275k\n",
            "\n",
            " This is the first time you run this script, please follow the instructions:\n",
            "\n",
            " 1) Open the following URL in your Browser, and log in using your account: https://www.dropbox.com/developers/apps\n",
            " 2) Click on \"Create App\", then select \"Dropbox API app\"\n",
            " 3) Now go on with the configuration, choosing the app permissions and access restrictions to your DropBox folder\n",
            " 4) Enter the \"App Name\" that you prefer (e.g. MyUploader5742498128401)\n",
            "\n",
            " Now, click on the \"Create App\" button.\n",
            "\n",
            " When your new App is successfully created, please click on the Generate button\n",
            " under the 'Generated access token' section, then copy and paste the new access token here:\n",
            "\n",
            " # Access token: iJMCDCbjLNIAAAAAAAANHFZu-tNNmw6FXMABCQuh-2f03xDCxv33TFd9yO0XQlqE\n",
            "\n",
            " > The access token is iJMCDCbjLNIAAAAAAAANHFZu-tNNmw6FXMABCQuh-2f03xDCxv33TFd9yO0XQlqE. Looks ok? [y/N]: y\n",
            "   The configuration has been saved.\n"
          ],
          "name": "stdout"
        }
      ]
    },
    {
      "metadata": {
        "id": "hDQd-odGciZG",
        "colab_type": "code",
        "colab": {
          "base_uri": "https://localhost:8080/",
          "height": 34
        },
        "outputId": "17d4158c-cf93-4ab6-93c3-6c57dd3188a1"
      },
      "cell_type": "code",
      "source": [
        "!./dropbox_uploader.sh download df.csv ."
      ],
      "execution_count": 10,
      "outputs": [
        {
          "output_type": "stream",
          "text": [
            " > Downloading \"/df.csv\" to \"/content/df.csv\"... DONE\n"
          ],
          "name": "stdout"
        }
      ]
    },
    {
      "metadata": {
        "id": "oKFt0QIsciZK",
        "colab_type": "code",
        "colab": {}
      },
      "cell_type": "code",
      "source": [
        "df = pd.read_csv(\"df.csv\", delimiter=\";\", index_col=0)"
      ],
      "execution_count": 0,
      "outputs": []
    },
    {
      "metadata": {
        "id": "DdhqbPNJciZP",
        "colab_type": "code",
        "colab": {
          "base_uri": "https://localhost:8080/",
          "height": 564
        },
        "outputId": "1a08c413-e917-4875-9c77-cb5f3169ee8b"
      },
      "cell_type": "code",
      "source": [
        "df.tail()"
      ],
      "execution_count": 12,
      "outputs": [
        {
          "output_type": "execute_result",
          "data": {
            "text/html": [
              "<div>\n",
              "<style scoped>\n",
              "    .dataframe tbody tr th:only-of-type {\n",
              "        vertical-align: middle;\n",
              "    }\n",
              "\n",
              "    .dataframe tbody tr th {\n",
              "        vertical-align: top;\n",
              "    }\n",
              "\n",
              "    .dataframe thead th {\n",
              "        text-align: right;\n",
              "    }\n",
              "</style>\n",
              "<table border=\"1\" class=\"dataframe\">\n",
              "  <thead>\n",
              "    <tr style=\"text-align: right;\">\n",
              "      <th></th>\n",
              "      <th>area</th>\n",
              "      <th>banos</th>\n",
              "      <th>desc_main</th>\n",
              "      <th>desc_sec</th>\n",
              "      <th>desc_texto</th>\n",
              "      <th>desc_title</th>\n",
              "      <th>desc_ubica</th>\n",
              "      <th>desc_vend</th>\n",
              "      <th>descripcion</th>\n",
              "      <th>habitaciones</th>\n",
              "      <th>imagens</th>\n",
              "      <th>lat</th>\n",
              "      <th>link</th>\n",
              "      <th>lng</th>\n",
              "      <th>mapa</th>\n",
              "      <th>percepcion_0</th>\n",
              "      <th>percepcion_180</th>\n",
              "      <th>percepcion_270</th>\n",
              "      <th>percepcion_90</th>\n",
              "      <th>precio</th>\n",
              "    </tr>\n",
              "  </thead>\n",
              "  <tbody>\n",
              "    <tr>\n",
              "      <th>936</th>\n",
              "      <td>77</td>\n",
              "      <td>2</td>\n",
              "      <td>Inmueble: Apartamento Metros de const.: 77 Op...</td>\n",
              "      <td>0</td>\n",
              "      <td>APTO PISO SEPTIMO: Consta de 77 m2, 3 habitac...</td>\n",
              "      <td>Apto 77 M2 3 Hab Cerca De Estacion San Javier</td>\n",
              "      <td>Ubicacion Medellin 3053181060, San Javier, Me...</td>\n",
              "      <td>Asiestucasa</td>\n",
              "      <td>{'title': 'Apto 77 M2 3 Hab Cerca De Estacion ...</td>\n",
              "      <td>3</td>\n",
              "      <td>['https://http2.mlstatic.com/none-D_NQ_NP_8829...</td>\n",
              "      <td>6.255651</td>\n",
              "      <td>https://apartamento.mercadolibre.com.co/MCO-48...</td>\n",
              "      <td>-75.618627</td>\n",
              "      <td>['6.2556509', '-75.6186265']</td>\n",
              "      <td>4.852417</td>\n",
              "      <td>4.220643</td>\n",
              "      <td>3.951810</td>\n",
              "      <td>4.010629</td>\n",
              "      <td>200000000.0</td>\n",
              "    </tr>\n",
              "    <tr>\n",
              "      <th>937</th>\n",
              "      <td>55</td>\n",
              "      <td>2</td>\n",
              "      <td>Inmueble: Apartamento Metros de const.: 55 Op...</td>\n",
              "      <td>Otros Condicion del item: Usado</td>\n",
              "      <td>Informacion detallada. Hermoso Apartamento ub...</td>\n",
              "      <td>Apartamento En Belen Los Alpes</td>\n",
              "      <td>Ubicacion Belen Los Alpes, Medellin, Antioquia</td>\n",
              "      <td>Luz Elena Meneses Moreno</td>\n",
              "      <td>{'title': 'Apartamento En Belen Los Alpes', 'v...</td>\n",
              "      <td>2</td>\n",
              "      <td>['https://http2.mlstatic.com/none-D_NQ_NP_8414...</td>\n",
              "      <td>6.228799</td>\n",
              "      <td>https://apartamento.mercadolibre.com.co/MCO-48...</td>\n",
              "      <td>-75.606185</td>\n",
              "      <td>['6.2287988', '-75.6061855']</td>\n",
              "      <td>4.482049</td>\n",
              "      <td>4.327452</td>\n",
              "      <td>5.193517</td>\n",
              "      <td>5.267939</td>\n",
              "      <td>200000000.0</td>\n",
              "    </tr>\n",
              "    <tr>\n",
              "      <th>938</th>\n",
              "      <td>67</td>\n",
              "      <td>2</td>\n",
              "      <td>Inmueble: Apartamento Metros de const.: 67 Op...</td>\n",
              "      <td>0</td>\n",
              "      <td>Se vende apartamento en Rodeo Alto, 3 habitac...</td>\n",
              "      <td>Se Vende Apartamento En Rodeo Alto</td>\n",
              "      <td>Ubicacion Medellin, Antioquia</td>\n",
              "      <td>Prado Gestion Inmobiliaria S.a.s</td>\n",
              "      <td>{'title': 'Se Vende Apartamento En Rodeo Alto'...</td>\n",
              "      <td>3</td>\n",
              "      <td>['https://http2.mlstatic.com/none-D_NQ_NP_9144...</td>\n",
              "      <td>6.244203</td>\n",
              "      <td>https://apartamento.mercadolibre.com.co/MCO-48...</td>\n",
              "      <td>-75.581212</td>\n",
              "      <td>['6.244203', '-75.5812119']</td>\n",
              "      <td>4.042085</td>\n",
              "      <td>4.859144</td>\n",
              "      <td>4.474911</td>\n",
              "      <td>4.472118</td>\n",
              "      <td>200000000.0</td>\n",
              "    </tr>\n",
              "    <tr>\n",
              "      <th>939</th>\n",
              "      <td>67</td>\n",
              "      <td>2</td>\n",
              "      <td>Inmueble: Apartamento Metros de const.: 67 Op...</td>\n",
              "      <td>Caracteristicas adicionales Balcon Cocina Int...</td>\n",
              "      <td>SE VENDE APARTAMETO EN LOS COLORES en Centro ...</td>\n",
              "      <td>Se Vende Apartameto En Los Colores</td>\n",
              "      <td>Ubicacion Centro Occidente, Medellin, Antioquia</td>\n",
              "      <td>Prado Gestion Inmobiliaria S.a.s</td>\n",
              "      <td>{'title': 'Se Vende Apartameto En Los Colores'...</td>\n",
              "      <td>3</td>\n",
              "      <td>['https://http2.mlstatic.com/none-D_NQ_NP_7736...</td>\n",
              "      <td>6.253453</td>\n",
              "      <td>https://apartamento.mercadolibre.com.co/MCO-48...</td>\n",
              "      <td>-75.624792</td>\n",
              "      <td>['6.2534528', '-75.6247916']</td>\n",
              "      <td>5.527111</td>\n",
              "      <td>4.960363</td>\n",
              "      <td>4.864713</td>\n",
              "      <td>5.027576</td>\n",
              "      <td>200000000.0</td>\n",
              "    </tr>\n",
              "    <tr>\n",
              "      <th>940</th>\n",
              "      <td>67</td>\n",
              "      <td>2</td>\n",
              "      <td>Inmueble: Apartamento Metros de const.: 67 Op...</td>\n",
              "      <td>Caracteristicas adicionales Balcon Calefaccio...</td>\n",
              "      <td>HERMOSO APARTAMENTO EN BELEN LA MOTA CERCA A ...</td>\n",
              "      <td>Hermoso Apartamento En Belen La Mota</td>\n",
              "      <td>Ubicacion La Mota, Medellin, Antioquia</td>\n",
              "      <td>Su Propiedad</td>\n",
              "      <td>{'title': 'Hermoso Apartamento En Belen La Mot...</td>\n",
              "      <td>2</td>\n",
              "      <td>['https://http2.mlstatic.com/none-D_NQ_NP_9028...</td>\n",
              "      <td>6.208338</td>\n",
              "      <td>https://apartamento.mercadolibre.com.co/MCO-48...</td>\n",
              "      <td>-75.599514</td>\n",
              "      <td>['6.2083376', '-75.5995139']</td>\n",
              "      <td>4.486433</td>\n",
              "      <td>5.168179</td>\n",
              "      <td>6.034755</td>\n",
              "      <td>4.307685</td>\n",
              "      <td>200000000.0</td>\n",
              "    </tr>\n",
              "  </tbody>\n",
              "</table>\n",
              "</div>"
            ],
            "text/plain": [
              "    area banos                                          desc_main  \\\n",
              "936   77     2   Inmueble: Apartamento Metros de const.: 77 Op...   \n",
              "937   55     2   Inmueble: Apartamento Metros de const.: 55 Op...   \n",
              "938   67     2   Inmueble: Apartamento Metros de const.: 67 Op...   \n",
              "939   67     2   Inmueble: Apartamento Metros de const.: 67 Op...   \n",
              "940   67     2   Inmueble: Apartamento Metros de const.: 67 Op...   \n",
              "\n",
              "                                              desc_sec  \\\n",
              "936                                                  0   \n",
              "937                   Otros Condicion del item: Usado    \n",
              "938                                                  0   \n",
              "939   Caracteristicas adicionales Balcon Cocina Int...   \n",
              "940   Caracteristicas adicionales Balcon Calefaccio...   \n",
              "\n",
              "                                            desc_texto  \\\n",
              "936   APTO PISO SEPTIMO: Consta de 77 m2, 3 habitac...   \n",
              "937   Informacion detallada. Hermoso Apartamento ub...   \n",
              "938   Se vende apartamento en Rodeo Alto, 3 habitac...   \n",
              "939   SE VENDE APARTAMETO EN LOS COLORES en Centro ...   \n",
              "940   HERMOSO APARTAMENTO EN BELEN LA MOTA CERCA A ...   \n",
              "\n",
              "                                        desc_title  \\\n",
              "936  Apto 77 M2 3 Hab Cerca De Estacion San Javier   \n",
              "937                 Apartamento En Belen Los Alpes   \n",
              "938             Se Vende Apartamento En Rodeo Alto   \n",
              "939             Se Vende Apartameto En Los Colores   \n",
              "940           Hermoso Apartamento En Belen La Mota   \n",
              "\n",
              "                                            desc_ubica  \\\n",
              "936   Ubicacion Medellin 3053181060, San Javier, Me...   \n",
              "937    Ubicacion Belen Los Alpes, Medellin, Antioquia    \n",
              "938                     Ubicacion Medellin, Antioquia    \n",
              "939   Ubicacion Centro Occidente, Medellin, Antioquia    \n",
              "940            Ubicacion La Mota, Medellin, Antioquia    \n",
              "\n",
              "                              desc_vend  \\\n",
              "936                        Asiestucasa    \n",
              "937           Luz Elena Meneses Moreno    \n",
              "938   Prado Gestion Inmobiliaria S.a.s    \n",
              "939   Prado Gestion Inmobiliaria S.a.s    \n",
              "940                       Su Propiedad    \n",
              "\n",
              "                                           descripcion habitaciones  \\\n",
              "936  {'title': 'Apto 77 M2 3 Hab Cerca De Estacion ...            3   \n",
              "937  {'title': 'Apartamento En Belen Los Alpes', 'v...            2   \n",
              "938  {'title': 'Se Vende Apartamento En Rodeo Alto'...            3   \n",
              "939  {'title': 'Se Vende Apartameto En Los Colores'...            3   \n",
              "940  {'title': 'Hermoso Apartamento En Belen La Mot...            2   \n",
              "\n",
              "                                               imagens       lat  \\\n",
              "936  ['https://http2.mlstatic.com/none-D_NQ_NP_8829...  6.255651   \n",
              "937  ['https://http2.mlstatic.com/none-D_NQ_NP_8414...  6.228799   \n",
              "938  ['https://http2.mlstatic.com/none-D_NQ_NP_9144...  6.244203   \n",
              "939  ['https://http2.mlstatic.com/none-D_NQ_NP_7736...  6.253453   \n",
              "940  ['https://http2.mlstatic.com/none-D_NQ_NP_9028...  6.208338   \n",
              "\n",
              "                                                  link        lng  \\\n",
              "936  https://apartamento.mercadolibre.com.co/MCO-48... -75.618627   \n",
              "937  https://apartamento.mercadolibre.com.co/MCO-48... -75.606185   \n",
              "938  https://apartamento.mercadolibre.com.co/MCO-48... -75.581212   \n",
              "939  https://apartamento.mercadolibre.com.co/MCO-48... -75.624792   \n",
              "940  https://apartamento.mercadolibre.com.co/MCO-48... -75.599514   \n",
              "\n",
              "                             mapa  percepcion_0  percepcion_180  \\\n",
              "936  ['6.2556509', '-75.6186265']      4.852417        4.220643   \n",
              "937  ['6.2287988', '-75.6061855']      4.482049        4.327452   \n",
              "938   ['6.244203', '-75.5812119']      4.042085        4.859144   \n",
              "939  ['6.2534528', '-75.6247916']      5.527111        4.960363   \n",
              "940  ['6.2083376', '-75.5995139']      4.486433        5.168179   \n",
              "\n",
              "     percepcion_270  percepcion_90       precio  \n",
              "936        3.951810       4.010629  200000000.0  \n",
              "937        5.193517       5.267939  200000000.0  \n",
              "938        4.474911       4.472118  200000000.0  \n",
              "939        4.864713       5.027576  200000000.0  \n",
              "940        6.034755       4.307685  200000000.0  "
            ]
          },
          "metadata": {
            "tags": []
          },
          "execution_count": 12
        }
      ]
    },
    {
      "metadata": {
        "id": "onHLawVSciZS",
        "colab_type": "code",
        "colab": {
          "base_uri": "https://localhost:8080/",
          "height": 34
        },
        "outputId": "a1a0ff82-0597-42f7-bb43-ad712849172d"
      },
      "cell_type": "code",
      "source": [
        "print(\"Get Distances - Interes Points\")"
      ],
      "execution_count": 13,
      "outputs": [
        {
          "output_type": "stream",
          "text": [
            "Get Distances - Interes Points\n"
          ],
          "name": "stdout"
        }
      ]
    },
    {
      "metadata": {
        "id": "oEawSPcmciZW",
        "colab_type": "code",
        "colab": {}
      },
      "cell_type": "code",
      "source": [
        "#df[\"lat\"] = df[\"lat\"].astype(float)"
      ],
      "execution_count": 0,
      "outputs": []
    },
    {
      "metadata": {
        "id": "epscdsxfciZZ",
        "colab_type": "code",
        "colab": {}
      },
      "cell_type": "code",
      "source": [
        "\n",
        "df[\"lng\"] = df[\"mapa\"].map(lambda x: eval(eval(x)[0]))\n",
        "df[\"lat\"] = df[\"mapa\"].map(lambda x: eval(eval(x)[1]))"
      ],
      "execution_count": 0,
      "outputs": []
    },
    {
      "metadata": {
        "id": "Kk3DRb7tciZc",
        "colab_type": "code",
        "colab": {}
      },
      "cell_type": "code",
      "source": [
        "def get_Estrato(x):\n",
        "  try:\n",
        "    y= x.split(\"Estrato:\")[1].split(\" \")\n",
        "    return int(y[1])\n",
        "  except:\n",
        "    return np.nan\n",
        "    \n",
        "df[\"Estrato\"] = df[\"desc_main\"].map(lambda x: get_Estrato(x))"
      ],
      "execution_count": 0,
      "outputs": []
    },
    {
      "metadata": {
        "id": "AO-U0NdwciZe",
        "colab_type": "code",
        "colab": {
          "base_uri": "https://localhost:8080/",
          "height": 80
        },
        "outputId": "eabaa139-4163-4f2a-b91d-8b664fd4d80a"
      },
      "cell_type": "code",
      "source": [
        "Oscar3.O_check_base(df[[\"Estrato\"]])"
      ],
      "execution_count": 17,
      "outputs": [
        {
          "output_type": "execute_result",
          "data": {
            "text/html": [
              "<div>\n",
              "<style scoped>\n",
              "    .dataframe tbody tr th:only-of-type {\n",
              "        vertical-align: middle;\n",
              "    }\n",
              "\n",
              "    .dataframe tbody tr th {\n",
              "        vertical-align: top;\n",
              "    }\n",
              "\n",
              "    .dataframe thead th {\n",
              "        text-align: right;\n",
              "    }\n",
              "</style>\n",
              "<table border=\"1\" class=\"dataframe\">\n",
              "  <thead>\n",
              "    <tr style=\"text-align: right;\">\n",
              "      <th></th>\n",
              "      <th>columns</th>\n",
              "      <th>types</th>\n",
              "      <th>missing</th>\n",
              "    </tr>\n",
              "  </thead>\n",
              "  <tbody>\n",
              "    <tr>\n",
              "      <th>0</th>\n",
              "      <td>Estrato</td>\n",
              "      <td>float64</td>\n",
              "      <td>263.0</td>\n",
              "    </tr>\n",
              "  </tbody>\n",
              "</table>\n",
              "</div>"
            ],
            "text/plain": [
              "   columns    types  missing\n",
              "0  Estrato  float64    263.0"
            ]
          },
          "metadata": {
            "tags": []
          },
          "execution_count": 17
        }
      ]
    },
    {
      "metadata": {
        "id": "uOI0UJpWciZi",
        "colab_type": "code",
        "colab": {}
      },
      "cell_type": "code",
      "source": [
        "df[\"Estrato\"] = df[[\"Estrato\"]].fillna(df[\"Estrato\"].mode()[0])"
      ],
      "execution_count": 0,
      "outputs": []
    },
    {
      "metadata": {
        "id": "MTLqzuBcciZk",
        "colab_type": "code",
        "colab": {}
      },
      "cell_type": "code",
      "source": [
        "def get_Negociable(x):\n",
        "  try:\n",
        "    y= x.split(\"Negociable: \")[1].split(\" \")\n",
        "    #print(y)\n",
        "    if y[0] == \"Si\":\n",
        "      return 1\n",
        "    if y[0] == \"No\":\n",
        "      return -1\n",
        "    \n",
        "  except:\n",
        "    return 0\n",
        "    \n",
        "df[\"Negociable\"] = df[\"desc_main\"].map(lambda x: get_Negociable(x))\n",
        "#Oscar3.O_print_full( df[[\"desc_main\",\"Negociable\"]])"
      ],
      "execution_count": 0,
      "outputs": []
    },
    {
      "metadata": {
        "id": "-h1p3rKwciZn",
        "colab_type": "code",
        "colab": {
          "base_uri": "https://localhost:8080/",
          "height": 80
        },
        "outputId": "671b571f-93ef-4b77-ccff-e7fdd6c8f59c"
      },
      "cell_type": "code",
      "source": [
        "Oscar3.O_check_base(df[[\"Negociable\"]])"
      ],
      "execution_count": 21,
      "outputs": [
        {
          "output_type": "execute_result",
          "data": {
            "text/html": [
              "<div>\n",
              "<style scoped>\n",
              "    .dataframe tbody tr th:only-of-type {\n",
              "        vertical-align: middle;\n",
              "    }\n",
              "\n",
              "    .dataframe tbody tr th {\n",
              "        vertical-align: top;\n",
              "    }\n",
              "\n",
              "    .dataframe thead th {\n",
              "        text-align: right;\n",
              "    }\n",
              "</style>\n",
              "<table border=\"1\" class=\"dataframe\">\n",
              "  <thead>\n",
              "    <tr style=\"text-align: right;\">\n",
              "      <th></th>\n",
              "      <th>columns</th>\n",
              "      <th>types</th>\n",
              "      <th>missing</th>\n",
              "    </tr>\n",
              "  </thead>\n",
              "  <tbody>\n",
              "    <tr>\n",
              "      <th>0</th>\n",
              "      <td>Negociable</td>\n",
              "      <td>int64</td>\n",
              "      <td>0.0</td>\n",
              "    </tr>\n",
              "  </tbody>\n",
              "</table>\n",
              "</div>"
            ],
            "text/plain": [
              "      columns  types  missing\n",
              "0  Negociable  int64      0.0"
            ]
          },
          "metadata": {
            "tags": []
          },
          "execution_count": 21
        }
      ]
    },
    {
      "metadata": {
        "id": "Z4EVCuduciZt",
        "colab_type": "code",
        "colab": {}
      },
      "cell_type": "code",
      "source": [
        "#df[[\"Negociable\"]]"
      ],
      "execution_count": 0,
      "outputs": []
    },
    {
      "metadata": {
        "id": "E8J9k8mDciZz",
        "colab_type": "code",
        "colab": {}
      },
      "cell_type": "code",
      "source": [
        "def get_ValAdm(x):\n",
        "  try:\n",
        "    y= x.split(\"Valor administracion ($): \")[1].split(\" \")\n",
        "    return int(y[0])\n",
        "  except:\n",
        "    return 0\n",
        "    \n",
        "df[\"ValAdm\"] = df[\"desc_main\"].map(lambda x: get_ValAdm(x))\n",
        "#Oscar3.O_print_full( df[[\"desc_main\",\"ValAdm\"]])"
      ],
      "execution_count": 0,
      "outputs": []
    },
    {
      "metadata": {
        "id": "Yulvn4hjciZ5",
        "colab_type": "code",
        "colab": {}
      },
      "cell_type": "code",
      "source": [
        "df = df[df[\"area\"] != \"3</span>\\n\\t\\t\\t</li>\\n\"]\n",
        "df = df[df[\"area\"] != '1</span>\\n\\t\\t\\t</li>\\n']\n",
        "#df[df[\"banos\"] == 'M\\xc3\\xa1s de 10']\n",
        "#Oscar3.O_print_full(df[df[\"banos\"] == 'M\\xc3\\xa1s de 10'])"
      ],
      "execution_count": 0,
      "outputs": []
    },
    {
      "metadata": {
        "id": "sPU-Az3XciZ8",
        "colab_type": "code",
        "colab": {
          "base_uri": "https://localhost:8080/",
          "height": 224
        },
        "outputId": "ced61a82-b10b-48c4-a85c-f018fdf7da82"
      },
      "cell_type": "code",
      "source": [
        "Oscar3.O_print_full(df[df[\"habitaciones\"] == 'M\\xc3\\xa1s de 10'])"
      ],
      "execution_count": 26,
      "outputs": [
        {
          "output_type": "stream",
          "text": [
            "    area banos                                                                                                                                                                               desc_main                                                                                                                                                                                                                                                                                                                    desc_sec                                                                                                                                                                                                                                                                                                                                                                                                       desc_texto                       desc_title                                         desc_ubica            desc_vend  \\\n",
            "5    1    0      Inmueble: Apartamento Metros de const.: 1 Operacion: Venta Habitaciones: Mas de 10 Banos: No tiene Anos de antiguedad: 1 Metros de terreno: 1                                           Otros Condicion del item: Usado                                                                                                                                                                                                                                                                                            0                                                                                                                                                                                                                                                                                                                                                                                                                Apartamentos En Venta             Ubicacion Medellin, Antioquia                     0                     \n",
            "604  63   2      Inmueble: Apartamento Metros de const.: 63 Operacion: Venta Valor administracion ($): 148000 Habitaciones: Mas de 10 Banos: 2 Anos de antiguedad: 0 Estrato: 4 Metros de terreno: 63    Caracteristicas adicionales Balcon Calefaccion o Chimenea Cocina Integral Garaje Piscina Vista panoramica Cercanias a menos de dos cuadras Centro comercial Colegio Parque Universidad Instalaciones y comodidades Circuito Cerrado de TV Conjunto Cerrado Ascensores Parque infantil Salon de Fiesta Vigilancia privada    Apartamento en venta en rodeo alto con area de 63m2, 3 alcobas , 2 banos, sala comedor, cocina integral cerrada, balcon con vista panoramica, calentador de paso, parqueadero cubierto. Unidad cerrada con vigilancia las 24 horas, pscina, placas deportivas, amplias zonas verdes, sendero ecologico, parqueadero de visitantes. Valor de venta: 165.000.000. NEGOCIABLES ! Urve inmobiliaria Colombia SAS.   Apartamento En Venta Rodeo Alto   Ubicacion Belen Rodeo Alto, Medellin, Antioquia    Patricia Valencia    \n",
            "\n",
            "                                                                                                                                                                                                                                                                                                                                                                                                                                                                                                                                                                                                                                                                                                                                                                                                                                                                                                                                                                                                                                                                                                                                      descripcion habitaciones                                                                                                                                                                                                                                                                                                                                                                                                                                                                                                                                                                                                                                                                                                                         imagens                  lat                                                                                       link                  lng                          mapa  \\\n",
            "5    {'title': 'Apartamentos En Venta', 'vendedor': 0, 'texto': 0, 'ubicacion': ' Ubicacion Medellin, Antioquia ', 'main_descripcion': ' Inmueble: Apartamento Metros de const.: 1 Operacion: Venta Habitaciones: Mas de 10 Banos: No tiene Anos de antiguedad: 1 Metros de terreno: 1 ', 'sec_descripcion': ' Otros Condicion del item: Usado '}                                                                                                                                                                                                                                                                                                                                                                                                                                                                                                                                                                                                                                                                                                                                                                                                  Más de 10    0                                                                                                                                                                                                                                                                                                                                                                                                                                                                                                                                                                                                                                                                                                                                            -75.58  https://apartamento.mercadolibre.com.co/MCO-494405318-apartamentos-en-venta-_JM                           6.24  ['6.2447031', '-75.5807149']   \n",
            "604  {'title': 'Apartamento En Venta Rodeo Alto', 'vendedor': ' Patricia Valencia ', 'texto': ' Apartamento en venta en rodeo alto con area de 63m2, 3 alcobas , 2 banos, sala comedor, cocina integral cerrada, balcon con vista panoramica, calentador de paso, parqueadero cubierto. Unidad cerrada con vigilancia las 24 horas, pscina, placas deportivas, amplias zonas verdes, sendero ecologico, parqueadero de visitantes. Valor de venta: 165.000.000. NEGOCIABLES ! Urve inmobiliaria Colombia SAS. ', 'ubicacion': ' Ubicacion Belen Rodeo Alto, Medellin, Antioquia ', 'main_descripcion': ' Inmueble: Apartamento Metros de const.: 63 Operacion: Venta Valor administracion ($): 148000 Habitaciones: Mas de 10 Banos: 2 Anos de antiguedad: 0 Estrato: 4 Metros de terreno: 63 ', 'sec_descripcion': ' Caracteristicas adicionales Balcon Calefaccion o Chimenea Cocina Integral Garaje Piscina Vista panoramica Cercanias a menos de dos cuadras Centro comercial Colegio Parque Universidad Instalaciones y comodidades Circuito Cerrado de TV Conjunto Cerrado Ascensores Parque infantil Salon de Fiesta Vigilancia privada '}  Más de 10    ['https://http2.mlstatic.com/none-D_NQ_NP_715780-MCO27884834507_082018-F.jpg', 'https://http2.mlstatic.com/none-D_NQ_NP_756261-MCO27884834510_082018-F.jpg', 'https://http2.mlstatic.com/none-D_NQ_NP_823084-MCO27884834506_082018-F.jpg', 'https://http2.mlstatic.com/none-D_NQ_NP_974547-MCO27884834504_082018-F.jpg', 'https://http2.mlstatic.com/none-D_NQ_NP_831514-MCO27884834505_082018-F.jpg', 'https://http2.mlstatic.com/none-D_NQ_NP_853051-MCO27884834502_082018-F.jpg', 'https://http2.mlstatic.com/none-D_NQ_NP_655567-MCO27884834508_082018-F.jpg', 'https://http2.mlstatic.com/none-D_NQ_NP_982623-MCO27884834509_082018-F.jpg', 'https://http2.mlstatic.com/none-D_NQ_NP_615278-MCO27884834503_082018-F.jpg']               -75.61  https://apartamento.mercadolibre.com.co/MCO-479630765-apartamento-en-venta-rodeo-alto-_JM                 6.20  ['6.2036942', '-75.6050723']   \n",
            "\n",
            "            percepcion_0       percepcion_180       percepcion_270        percepcion_90               precio              Estrato  Negociable  ValAdm  \n",
            "5                   5.18                 5.37                 5.30                 4.40         1,000,000.00                 3.00  0           0       \n",
            "604                 5.06                 5.37                 5.43                 5.10       165,000,000.00                 4.00  0           148000  \n"
          ],
          "name": "stdout"
        }
      ]
    },
    {
      "metadata": {
        "id": "E9eOe-GkciZ_",
        "colab_type": "code",
        "colab": {}
      },
      "cell_type": "code",
      "source": [
        "#Oscar3.O_print_full(df.iloc[603])"
      ],
      "execution_count": 0,
      "outputs": []
    },
    {
      "metadata": {
        "id": "Kx-U6bKjciaB",
        "colab_type": "code",
        "colab": {}
      },
      "cell_type": "code",
      "source": [
        "df.drop(index=5, inplace=True)"
      ],
      "execution_count": 0,
      "outputs": []
    },
    {
      "metadata": {
        "id": "J_Xf6QtXciaD",
        "colab_type": "code",
        "colab": {}
      },
      "cell_type": "code",
      "source": [
        "df.at[407,\"banos\"] = 2"
      ],
      "execution_count": 0,
      "outputs": []
    },
    {
      "metadata": {
        "id": "9hewglXmciaG",
        "colab_type": "code",
        "colab": {}
      },
      "cell_type": "code",
      "source": [
        "df.at[604,\"habitaciones\"] = 3"
      ],
      "execution_count": 0,
      "outputs": []
    },
    {
      "metadata": {
        "id": "N9LBIHMqciaI",
        "colab_type": "code",
        "colab": {}
      },
      "cell_type": "code",
      "source": [
        "#df.iloc[603]"
      ],
      "execution_count": 0,
      "outputs": []
    },
    {
      "metadata": {
        "id": "AZ0_MhbYciaK",
        "colab_type": "code",
        "colab": {}
      },
      "cell_type": "code",
      "source": [
        "#df.iloc[407]"
      ],
      "execution_count": 0,
      "outputs": []
    },
    {
      "metadata": {
        "id": "SQOXgMTCciaM",
        "colab_type": "code",
        "colab": {}
      },
      "cell_type": "code",
      "source": [
        "df[\"area\"] = df[\"area\"].astype(int)\n",
        "df[\"banos\"] = df[\"banos\"].astype(int)\n",
        "df[\"habitaciones\"] = df[\"habitaciones\"].astype(int)\n",
        "df[\"Estrato\"] = df[\"Estrato\"].astype(int)"
      ],
      "execution_count": 0,
      "outputs": []
    },
    {
      "metadata": {
        "id": "YhmebcdEciaO",
        "colab_type": "code",
        "colab": {}
      },
      "cell_type": "code",
      "source": [
        "#df[[\"desc_main\"]].head()"
      ],
      "execution_count": 0,
      "outputs": []
    },
    {
      "metadata": {
        "id": "ETYHHwD2ciaT",
        "colab_type": "code",
        "colab": {}
      },
      "cell_type": "code",
      "source": [
        "#df[\"lat\"]"
      ],
      "execution_count": 0,
      "outputs": []
    },
    {
      "metadata": {
        "id": "kByi2jQgciaW",
        "colab_type": "code",
        "colab": {
          "base_uri": "https://localhost:8080/",
          "height": 762
        },
        "outputId": "9ed9d1de-af19-4ff6-9f97-ebf62e820649"
      },
      "cell_type": "code",
      "source": [
        "Oscar3.O_check_base(df)"
      ],
      "execution_count": 36,
      "outputs": [
        {
          "output_type": "execute_result",
          "data": {
            "text/html": [
              "<div>\n",
              "<style scoped>\n",
              "    .dataframe tbody tr th:only-of-type {\n",
              "        vertical-align: middle;\n",
              "    }\n",
              "\n",
              "    .dataframe tbody tr th {\n",
              "        vertical-align: top;\n",
              "    }\n",
              "\n",
              "    .dataframe thead th {\n",
              "        text-align: right;\n",
              "    }\n",
              "</style>\n",
              "<table border=\"1\" class=\"dataframe\">\n",
              "  <thead>\n",
              "    <tr style=\"text-align: right;\">\n",
              "      <th></th>\n",
              "      <th>columns</th>\n",
              "      <th>types</th>\n",
              "      <th>missing</th>\n",
              "    </tr>\n",
              "  </thead>\n",
              "  <tbody>\n",
              "    <tr>\n",
              "      <th>0</th>\n",
              "      <td>area</td>\n",
              "      <td>int64</td>\n",
              "      <td>0.0</td>\n",
              "    </tr>\n",
              "    <tr>\n",
              "      <th>1</th>\n",
              "      <td>banos</td>\n",
              "      <td>int64</td>\n",
              "      <td>0.0</td>\n",
              "    </tr>\n",
              "    <tr>\n",
              "      <th>2</th>\n",
              "      <td>desc_main</td>\n",
              "      <td>object</td>\n",
              "      <td>0.0</td>\n",
              "    </tr>\n",
              "    <tr>\n",
              "      <th>3</th>\n",
              "      <td>desc_sec</td>\n",
              "      <td>object</td>\n",
              "      <td>0.0</td>\n",
              "    </tr>\n",
              "    <tr>\n",
              "      <th>4</th>\n",
              "      <td>desc_texto</td>\n",
              "      <td>object</td>\n",
              "      <td>0.0</td>\n",
              "    </tr>\n",
              "    <tr>\n",
              "      <th>5</th>\n",
              "      <td>desc_title</td>\n",
              "      <td>object</td>\n",
              "      <td>0.0</td>\n",
              "    </tr>\n",
              "    <tr>\n",
              "      <th>6</th>\n",
              "      <td>desc_ubica</td>\n",
              "      <td>object</td>\n",
              "      <td>0.0</td>\n",
              "    </tr>\n",
              "    <tr>\n",
              "      <th>7</th>\n",
              "      <td>desc_vend</td>\n",
              "      <td>object</td>\n",
              "      <td>0.0</td>\n",
              "    </tr>\n",
              "    <tr>\n",
              "      <th>8</th>\n",
              "      <td>descripcion</td>\n",
              "      <td>object</td>\n",
              "      <td>0.0</td>\n",
              "    </tr>\n",
              "    <tr>\n",
              "      <th>9</th>\n",
              "      <td>habitaciones</td>\n",
              "      <td>int64</td>\n",
              "      <td>0.0</td>\n",
              "    </tr>\n",
              "    <tr>\n",
              "      <th>10</th>\n",
              "      <td>imagens</td>\n",
              "      <td>object</td>\n",
              "      <td>0.0</td>\n",
              "    </tr>\n",
              "    <tr>\n",
              "      <th>11</th>\n",
              "      <td>lat</td>\n",
              "      <td>float64</td>\n",
              "      <td>0.0</td>\n",
              "    </tr>\n",
              "    <tr>\n",
              "      <th>12</th>\n",
              "      <td>link</td>\n",
              "      <td>object</td>\n",
              "      <td>0.0</td>\n",
              "    </tr>\n",
              "    <tr>\n",
              "      <th>13</th>\n",
              "      <td>lng</td>\n",
              "      <td>float64</td>\n",
              "      <td>0.0</td>\n",
              "    </tr>\n",
              "    <tr>\n",
              "      <th>14</th>\n",
              "      <td>mapa</td>\n",
              "      <td>object</td>\n",
              "      <td>0.0</td>\n",
              "    </tr>\n",
              "    <tr>\n",
              "      <th>15</th>\n",
              "      <td>percepcion_0</td>\n",
              "      <td>float64</td>\n",
              "      <td>0.0</td>\n",
              "    </tr>\n",
              "    <tr>\n",
              "      <th>16</th>\n",
              "      <td>percepcion_180</td>\n",
              "      <td>float64</td>\n",
              "      <td>0.0</td>\n",
              "    </tr>\n",
              "    <tr>\n",
              "      <th>17</th>\n",
              "      <td>percepcion_270</td>\n",
              "      <td>float64</td>\n",
              "      <td>0.0</td>\n",
              "    </tr>\n",
              "    <tr>\n",
              "      <th>18</th>\n",
              "      <td>percepcion_90</td>\n",
              "      <td>float64</td>\n",
              "      <td>0.0</td>\n",
              "    </tr>\n",
              "    <tr>\n",
              "      <th>19</th>\n",
              "      <td>precio</td>\n",
              "      <td>float64</td>\n",
              "      <td>0.0</td>\n",
              "    </tr>\n",
              "    <tr>\n",
              "      <th>20</th>\n",
              "      <td>Estrato</td>\n",
              "      <td>int64</td>\n",
              "      <td>0.0</td>\n",
              "    </tr>\n",
              "    <tr>\n",
              "      <th>21</th>\n",
              "      <td>Negociable</td>\n",
              "      <td>int64</td>\n",
              "      <td>0.0</td>\n",
              "    </tr>\n",
              "    <tr>\n",
              "      <th>22</th>\n",
              "      <td>ValAdm</td>\n",
              "      <td>int64</td>\n",
              "      <td>0.0</td>\n",
              "    </tr>\n",
              "  </tbody>\n",
              "</table>\n",
              "</div>"
            ],
            "text/plain": [
              "           columns    types  missing\n",
              "0             area    int64      0.0\n",
              "1            banos    int64      0.0\n",
              "2        desc_main   object      0.0\n",
              "3         desc_sec   object      0.0\n",
              "4       desc_texto   object      0.0\n",
              "5       desc_title   object      0.0\n",
              "6       desc_ubica   object      0.0\n",
              "7        desc_vend   object      0.0\n",
              "8      descripcion   object      0.0\n",
              "9     habitaciones    int64      0.0\n",
              "10         imagens   object      0.0\n",
              "11             lat  float64      0.0\n",
              "12            link   object      0.0\n",
              "13             lng  float64      0.0\n",
              "14            mapa   object      0.0\n",
              "15    percepcion_0  float64      0.0\n",
              "16  percepcion_180  float64      0.0\n",
              "17  percepcion_270  float64      0.0\n",
              "18   percepcion_90  float64      0.0\n",
              "19          precio  float64      0.0\n",
              "20         Estrato    int64      0.0\n",
              "21      Negociable    int64      0.0\n",
              "22          ValAdm    int64      0.0"
            ]
          },
          "metadata": {
            "tags": []
          },
          "execution_count": 36
        }
      ]
    },
    {
      "metadata": {
        "id": "suVMexO_ciaa",
        "colab_type": "code",
        "colab": {
          "base_uri": "https://localhost:8080/",
          "height": 54
        },
        "outputId": "33dd0968-59b3-4552-eb3e-ae406722a90b"
      },
      "cell_type": "code",
      "source": [
        "print(df.columns.tolist())"
      ],
      "execution_count": 37,
      "outputs": [
        {
          "output_type": "stream",
          "text": [
            "['area', 'banos', 'desc_main', 'desc_sec', 'desc_texto', 'desc_title', 'desc_ubica', 'desc_vend', 'descripcion', 'habitaciones', 'imagens', 'lat', 'link', 'lng', 'mapa', 'percepcion_0', 'percepcion_180', 'percepcion_270', 'percepcion_90', 'precio', 'Estrato', 'Negociable', 'ValAdm']\n"
          ],
          "name": "stdout"
        }
      ]
    },
    {
      "metadata": {
        "id": "o_JNffOFciae",
        "colab_type": "code",
        "colab": {}
      },
      "cell_type": "code",
      "source": [
        "df_0 = df\n",
        "df[\"description\"] = df_0['desc_main'] + df_0['desc_sec'] + df_0['desc_texto'] + df_0['desc_title'] + df_0['desc_ubica'] + df_0['desc_vend']\n",
        "df = df[['area', 'banos', 'habitaciones', 'lat', 'lng', 'percepcion_0', 'percepcion_180', 'percepcion_270', 'percepcion_90', 'Estrato', 'precio', 'Negociable', 'ValAdm']]"
      ],
      "execution_count": 0,
      "outputs": []
    },
    {
      "metadata": {
        "id": "YZxpW-bAciaj",
        "colab_type": "code",
        "colab": {}
      },
      "cell_type": "code",
      "source": [
        "df = df[df[\"precio\"] >0.8e8]"
      ],
      "execution_count": 0,
      "outputs": []
    },
    {
      "metadata": {
        "id": "WujOb_0mcial",
        "colab_type": "code",
        "colab": {}
      },
      "cell_type": "code",
      "source": [
        "#df = df.drop(columns=['desc_main', 'desc_sec', 'desc_texto', 'desc_title', 'desc_ubica', 'desc_vend', 'descripcion','imagens','mapa','link'])"
      ],
      "execution_count": 0,
      "outputs": []
    },
    {
      "metadata": {
        "id": "YJta-aq2ciao",
        "colab_type": "code",
        "colab": {}
      },
      "cell_type": "code",
      "source": [
        "#lista"
      ],
      "execution_count": 0,
      "outputs": []
    },
    {
      "metadata": {
        "id": "YEu7nxqDdkdK",
        "colab_type": "code",
        "colab": {
          "base_uri": "https://localhost:8080/",
          "height": 612
        },
        "outputId": "3b3581ad-358c-40c6-c9c4-a29ce50ac019"
      },
      "cell_type": "code",
      "source": [
        "def plot_corr(df,size=10):\n",
        "    '''Function plots a graphical correlation matrix for each pair of columns in the dataframe.\n",
        "\n",
        "    Input:\n",
        "        df: pandas DataFrame\n",
        "        size: vertical and horizontal size of the plot'''\n",
        "\n",
        "    corr = df.corr()\n",
        "    fig, ax = plt.subplots(figsize=(size, size))\n",
        "    ax.matshow(corr)\n",
        "    plt.xticks(range(len(corr.columns)), corr.columns);\n",
        "    plt.yticks(range(len(corr.columns)), corr.columns);\n",
        "\n",
        "plot_corr(df)"
      ],
      "execution_count": 43,
      "outputs": [
        {
          "output_type": "display_data",
          "data": {
            "image/png": "[encoded data removed]",
            "text/plain": [
              "<matplotlib.figure.Figure at 0x7f079df67e10>"
            ]
          },
          "metadata": {
            "tags": []
          }
        }
      ]
    },
    {
      "metadata": {
        "id": "CpS3X_ZKeOlT",
        "colab_type": "code",
        "colab": {
          "base_uri": "https://localhost:8080/",
          "height": 343
        },
        "outputId": "105aec38-e069-4637-9237-a6edf3fe5776"
      },
      "cell_type": "code",
      "source": [
        "import seaborn as sns\n",
        "corr = df.corr()\n",
        "sns.heatmap(corr, \n",
        "            xticklabels=corr.columns.values,\n",
        "            yticklabels=corr.columns.values)"
      ],
      "execution_count": 45,
      "outputs": [
        {
          "output_type": "execute_result",
          "data": {
            "text/plain": [
              "<matplotlib.axes._subplots.AxesSubplot at 0x7f07920895d0>"
            ]
          },
          "metadata": {
            "tags": []
          },
          "execution_count": 45
        },
        {
          "output_type": "display_data",
          "data": {
            "image/png": "[encoded data removed]",
            "text/plain": [
              "<matplotlib.figure.Figure at 0x7f0791c7fe90>"
            ]
          },
          "metadata": {
            "tags": []
          }
        }
      ]
    },
    {
      "metadata": {
        "id": "BRX1IS_EixKa",
        "colab_type": "code",
        "colab": {
          "base_uri": "https://localhost:8080/",
          "height": 615
        },
        "outputId": "915506b7-716a-4f5b-8679-bb053fc90770"
      },
      "cell_type": "code",
      "source": [
        "import seaborn as sns\n",
        "corr = df[['area', 'banos', 'habitaciones', 'lat', 'lng', 'percepcion_0', 'percepcion_180', 'percepcion_270', 'percepcion_90', 'Estrato', 'Negociable', 'ValAdm', 'precio']]\n",
        "corr = corr.corr()\n",
        "mask=np.zeros_like(corr, dtype=np.bool)\n",
        "mask[np.triu_indices_from(mask)]=True\n",
        "f, ax = plt.subplots(figsize=(11,9))\n",
        "cmap=sns.diverging_palette(220, 10, as_cmap=True)\n",
        "sns.heatmap(corr, mask=mask, cmap =cmap, vmax=1, vmin=-1, center=0, square=True, linewidth=.5,cbar_kws={\"shrink\":.5})\n",
        "#f.savefig('myimage.png', format='png', dpi=1200)\n",
        "#!./dropbox_uploader.sh upload myimage.png /\n",
        "#corr = df.corr()\n",
        "#sns.heatmap(corr, mask=np.zeros_like(corr, dtype=np.bool), cmap=sns.diverging_palette(220,10,as_cmap=True), square=True, ax=ax)"
      ],
      "execution_count": 58,
      "outputs": [
        {
          "output_type": "execute_result",
          "data": {
            "text/plain": [
              "<matplotlib.axes._subplots.AxesSubplot at 0x7f078bb85a10>"
            ]
          },
          "metadata": {
            "tags": []
          },
          "execution_count": 58
        },
        {
          "output_type": "display_data",
          "data": {
            "image/png": "[encoded data removed]",
            "text/plain": [
              "<matplotlib.figure.Figure at 0x7f078bbb91d0>"
            ]
          },
          "metadata": {
            "tags": []
          }
        }
      ]
    },
    {
      "metadata": {
        "id": "6VOU9g_2ciar",
        "colab_type": "code",
        "colab": {}
      },
      "cell_type": "code",
      "source": [
        "ind  = df.columns.tolist().index(\"precio\")\n",
        "lista = df.columns.tolist()\n",
        "V_objetivo = lista.pop(ind)\n",
        "X = df[lista]\n",
        "y = df[[V_objetivo]]"
      ],
      "execution_count": 0,
      "outputs": []
    },
    {
      "metadata": {
        "id": "j0Jkr45kciat",
        "colab_type": "code",
        "colab": {}
      },
      "cell_type": "code",
      "source": [
        "#X.head().columns.tolist()"
      ],
      "execution_count": 0,
      "outputs": []
    },
    {
      "metadata": {
        "id": "TQqdPKNpciaw",
        "colab_type": "code",
        "colab": {}
      },
      "cell_type": "code",
      "source": [
        "X.head()"
      ],
      "execution_count": 0,
      "outputs": []
    },
    {
      "metadata": {
        "id": "u_u8Nh_2ciaz",
        "colab_type": "code",
        "colab": {}
      },
      "cell_type": "code",
      "source": [
        "y.hist()"
      ],
      "execution_count": 0,
      "outputs": []
    },
    {
      "metadata": {
        "id": "LaLhF-65cia0",
        "colab_type": "code",
        "colab": {}
      },
      "cell_type": "code",
      "source": [
        "from sklearn.ensemble import RandomForestRegressor\n",
        "from sklearn.datasets import make_regression\n",
        "from sklearn.model_selection import train_test_split\n",
        "\n",
        "\n",
        "\n",
        "X_train, X_test, y_train, y_test = train_test_split(X, y, test_size=0.2)"
      ],
      "execution_count": 0,
      "outputs": []
    },
    {
      "metadata": {
        "id": "oD-IfW_9cia7",
        "colab_type": "code",
        "colab": {}
      },
      "cell_type": "code",
      "source": [
        "y_train.hist()"
      ],
      "execution_count": 0,
      "outputs": []
    },
    {
      "metadata": {
        "id": "QrWGEx1VcibB",
        "colab_type": "code",
        "colab": {}
      },
      "cell_type": "code",
      "source": [
        "y_test.hist()"
      ],
      "execution_count": 0,
      "outputs": []
    },
    {
      "metadata": {
        "id": "eS8Di_socibG",
        "colab_type": "code",
        "colab": {}
      },
      "cell_type": "code",
      "source": [
        "from sklearn.model_selection import RandomizedSearchCV\n",
        "# Number of trees in random forest\n",
        "n_estimators = [int(x) for x in np.linspace(start = 200, stop = 2000, num = 10)]\n",
        "# Number of features to consider at every split\n",
        "max_features = ['auto', 'sqrt']\n",
        "# Maximum number of levels in tree\n",
        "max_depth = [int(x) for x in np.linspace(10, 110, num = 11)]\n",
        "max_depth.append(None)\n",
        "# Minimum number of samples required to split a node\n",
        "min_samples_split = [2, 5, 10]\n",
        "# Minimum number of samples required at each leaf node\n",
        "min_samples_leaf = [1, 2, 4, 5, 6]\n",
        "# Method of selecting samples for training each tree\n",
        "bootstrap = [True, False]\n",
        "# Create the random grid\n",
        "random_grid = {'n_estimators': n_estimators,\n",
        "               'max_features': max_features,\n",
        "               'max_depth': max_depth,\n",
        "               'min_samples_split': min_samples_split,\n",
        "               'min_samples_leaf': min_samples_leaf,\n",
        "               'bootstrap': bootstrap}\n",
        "random_grid"
      ],
      "execution_count": 0,
      "outputs": []
    },
    {
      "metadata": {
        "id": "XTAjEG5RcibJ",
        "colab_type": "code",
        "colab": {}
      },
      "cell_type": "code",
      "source": [
        "rf = RandomForestRegressor()\n",
        "# Random search of parameters, using 3 fold cross validation, \n",
        "# search across 100 different combinations, and use all available cores\n",
        "rf_random = RandomizedSearchCV(estimator = rf, param_distributions = random_grid, n_iter = 100, cv = 3, verbose=2, random_state=42, n_jobs = -1)\n",
        "# Fit the random search model\n",
        "rf_random.fit(X_train, y_train)"
      ],
      "execution_count": 0,
      "outputs": []
    },
    {
      "metadata": {
        "id": "4J6kKKjicibN",
        "colab_type": "code",
        "colab": {}
      },
      "cell_type": "code",
      "source": [
        "def evaluate(model, test_features, test_labels):\n",
        "    #predictions = model.predict(test_features)\n",
        "    predictions =pd.DataFrame({test_labels.columns.tolist()[0]:model.predict(test_features)}, index=test_features.index)\n",
        "    errors = abs(predictions - test_labels)\n",
        "    mape = 100 * np.mean(errors / test_labels)\n",
        "    accuracy = 100 - mape\n",
        "    print(np.mean(errors))\n",
        "    print('Model Performance')\n",
        "    print('Average Error: {} degrees.'.format(np.mean(errors)))\n",
        "    print('Accuracy = {}%.'.format(accuracy))\n",
        "    \n",
        "    return accuracy\n",
        "#base_model = RandomForestRegressor(n_estimators = 10, random_state = 42)\n",
        "#base_model.fit(train_features, train_labels)\n",
        "#base_accuracy = evaluate(base_model, test_features, test_labels)"
      ],
      "execution_count": 0,
      "outputs": []
    },
    {
      "metadata": {
        "id": "fvMLcBMdcibQ",
        "colab_type": "code",
        "colab": {}
      },
      "cell_type": "code",
      "source": [
        "best_random = rf_random.best_estimator_"
      ],
      "execution_count": 0,
      "outputs": []
    },
    {
      "metadata": {
        "id": "T43tk_YNcibT",
        "colab_type": "code",
        "colab": {}
      },
      "cell_type": "code",
      "source": [
        "best_random"
      ],
      "execution_count": 0,
      "outputs": []
    },
    {
      "metadata": {
        "id": "ygp5oHnUcibX",
        "colab_type": "code",
        "colab": {}
      },
      "cell_type": "code",
      "source": [
        "random_accuracy = evaluate(best_random, X_train, y_train)"
      ],
      "execution_count": 0,
      "outputs": []
    },
    {
      "metadata": {
        "id": "DvKvmGhocibc",
        "colab_type": "code",
        "colab": {}
      },
      "cell_type": "code",
      "source": [
        "random_accuracy = evaluate(best_random, X_test, y_test)"
      ],
      "execution_count": 0,
      "outputs": []
    },
    {
      "metadata": {
        "id": "ALEyO56Scibg",
        "colab_type": "code",
        "colab": {}
      },
      "cell_type": "code",
      "source": [
        "%notebook ./filename.ipynb\n",
        "!./dropbox_uploader.sh upload filename_rf2.ipynb /"
      ],
      "execution_count": 0,
      "outputs": []
    },
    {
      "metadata": {
        "id": "EWjRTiIucibh",
        "colab_type": "code",
        "colab": {}
      },
      "cell_type": "code",
      "source": [
        "%notebook ./filename.ipynb\n",
        "!./dropbox_uploader.sh upload filename_rf2.ipynb /"
      ],
      "execution_count": 0,
      "outputs": []
    },
    {
      "metadata": {
        "id": "gnJD7TWgcibk",
        "colab_type": "code",
        "colab": {}
      },
      "cell_type": "code",
      "source": [
        "%notebook ./filename.ipynb\n",
        "!./dropbox_uploader.sh upload filename_rf2.ipynb /"
      ],
      "execution_count": 0,
      "outputs": []
    },
    {
      "metadata": {
        "id": "JqRJjHURcibp",
        "colab_type": "code",
        "colab": {}
      },
      "cell_type": "code",
      "source": [
        "!curl \"https://raw.githubusercontent.com/andreafabrizi/Dropbox-Uploader/master/dropbox_uploader.sh\" -o dropbox_uploader.sh\n",
        "\n",
        "\n",
        "!chmod +x dropbox_uploader.sh\n",
        "!./dropbox_uploader.sh\n",
        "#iJMCDCbjLNIAAAAAAAANHFZu-tNNmw6FXMABCQuh-2f03xDCxv33TFd9yO0XQlqE\n",
        "#%notebook ./filename.ipynb\n",
        "#!./dropbox_uploader.sh upload filename.ipynb /"
      ],
      "execution_count": 0,
      "outputs": []
    },
    {
      "metadata": {
        "id": "3k5mTFkWcibq",
        "colab_type": "code",
        "colab": {}
      },
      "cell_type": "code",
      "source": [
        "%notebook ./filename_rf2.ipynb\n",
        "!./dropbox_uploader.sh upload filename_rf2.ipynb /"
      ],
      "execution_count": 0,
      "outputs": []
    },
    {
      "metadata": {
        "id": "edU5_xOicibs",
        "colab_type": "code",
        "colab": {}
      },
      "cell_type": "code",
      "source": [
        "%notebook ./filename_rf2.ipynb\n",
        "!./dropbox_uploader.sh upload filename_rf2.ipynb /"
      ],
      "execution_count": 0,
      "outputs": []
    }
  ]
}
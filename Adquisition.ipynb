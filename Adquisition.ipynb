{
  "nbformat": 4,
  "nbformat_minor": 0,
  "metadata": {
    "colab": {
      "name": "Adquisition.ipynb",
      "version": "0.3.2",
      "provenance": [],
      "collapsed_sections": [],
      "include_colab_link": true
    },
    "kernelspec": {
      "display_name": "Python [conda env:py36]",
      "language": "python",
      "name": "conda-env-py36-py"
    }
  },
  "cells": [
    {
      "cell_type": "markdown",
      "metadata": {
        "id": "view-in-github",
        "colab_type": "text"
      },
      "source": [
        "<a href=\"https://colab.research.google.com/github/obabilonia/test1/blob/master/Adquisition.ipynb\" target=\"_parent\"><img src=\"https://colab.research.google.com/assets/colab-badge.svg\" alt=\"Open In Colab\"/></a>"
      ]
    },
    {
      "metadata": {
        "id": "KR-vm8gyAYS0",
        "colab_type": "text"
      },
      "cell_type": "markdown",
      "source": [
        "# Parte 1: Adquisicion de datos"
      ]
    },
    {
      "metadata": {
        "colab_type": "code",
        "id": "skm6PqOoS-lD",
        "colab": {}
      },
      "cell_type": "code",
      "source": [
        "#!pip install pyvirtualdisplay"
      ],
      "execution_count": 0,
      "outputs": []
    },
    {
      "metadata": {
        "colab_type": "code",
        "id": "a-7QUnSxTDup",
        "colab": {}
      },
      "cell_type": "code",
      "source": [
        "#!pip install unidecode"
      ],
      "execution_count": 0,
      "outputs": []
    },
    {
      "metadata": {
        "colab_type": "code",
        "id": "37gXOm-IRpiN",
        "colab": {}
      },
      "cell_type": "code",
      "source": [
        "#!apt-get install libnss3=2:3.26.2-1.1+deb9u1 #libglib2.0-0 libgconf-2-4=3.2.6-4+b1 libfontconfig1=2.11.0-6.7+b1"
      ],
      "execution_count": 0,
      "outputs": []
    },
    {
      "metadata": {
        "colab_type": "code",
        "id": "dbUu6CCdVSae",
        "colab": {}
      },
      "cell_type": "code",
      "source": [
        "#! lscpu"
      ],
      "execution_count": 0,
      "outputs": []
    },
    {
      "metadata": {
        "colab_type": "code",
        "id": "tECix7jAUCFu",
        "colab": {}
      },
      "cell_type": "code",
      "source": [
        "#!apt-get install libxi6 libgconf-2-4"
      ],
      "execution_count": 0,
      "outputs": []
    },
    {
      "metadata": {
        "colab_type": "code",
        "id": "7wdHJNoON3Gs",
        "colab": {}
      },
      "cell_type": "code",
      "source": [
        "#page = requests.get(\"https://www.dataquest.io/blog/web-scraping-tutorial-python/\")\n",
        "#page.content"
      ],
      "execution_count": 0,
      "outputs": []
    },
    {
      "metadata": {
        "id": "RyYHABTCARXk",
        "colab_type": "code",
        "colab": {}
      },
      "cell_type": "code",
      "source": [
        "#!pip install requests"
      ],
      "execution_count": 0,
      "outputs": []
    },
    {
      "metadata": {
        "id": "6gcWF8P7ARXo",
        "colab_type": "code",
        "colab": {}
      },
      "cell_type": "code",
      "source": [
        "#!pip install --upgrade pip"
      ],
      "execution_count": 0,
      "outputs": []
    },
    {
      "metadata": {
        "id": "hdm2A7_IC88Z",
        "colab_type": "code",
        "colab": {
          "base_uri": "https://localhost:8080/",
          "height": 122
        },
        "outputId": "e3ec6fb2-8e6c-4873-d37f-9ab1221a4487"
      },
      "cell_type": "code",
      "source": [
        "!pip install lxml"
      ],
      "execution_count": 16,
      "outputs": [
        {
          "output_type": "stream",
          "text": [
            "Collecting lxml\n",
            "\u001b[?25l  Downloading https://files.pythonhosted.org/packages/e5/14/f4343239f955442da9da1919a99f7311bc5627522741bada61b2349c8def/lxml-4.2.5-cp27-cp27mu-manylinux1_x86_64.whl (5.8MB)\n",
            "\u001b[K    100% |████████████████████████████████| 5.8MB 3.9MB/s \n",
            "\u001b[?25hInstalling collected packages: lxml\n",
            "Successfully installed lxml-4.2.5\n"
          ],
          "name": "stdout"
        }
      ]
    },
    {
      "metadata": {
        "colab_type": "code",
        "id": "SFUVU70mPmxW",
        "colab": {}
      },
      "cell_type": "code",
      "source": [
        "import lxlm\n",
        "import requests\n",
        "import pandas as pd\n",
        "import os\n",
        "#from selenium import webdriver\n",
        "#from selenium.webdriver.support.ui import Select\n",
        "import time\n",
        "from PIL import Image\n",
        "import subprocess\n",
        "#import commands\n",
        "import pickle\n",
        "#from selenium.webdriver.chrome.options import Options\n",
        "from pyvirtualdisplay import Display\n",
        "from IPython.display import clear_output\n",
        "import matplotlib.pyplot as plt\n",
        "from unidecode import unidecode\n",
        "%matplotlib inline"
      ],
      "execution_count": 0,
      "outputs": []
    },
    {
      "metadata": {
        "colab_type": "code",
        "id": "6CWoO7B_YnQM",
        "colab": {}
      },
      "cell_type": "code",
      "source": [
        "links = []\n",
        "precios = []\n",
        "area = []\n",
        "habitaciones = []\n",
        "banos = []\n",
        "mapa = []\n",
        "descripcion = []\n",
        "imagens = []"
      ],
      "execution_count": 0,
      "outputs": []
    },
    {
      "metadata": {
        "colab_type": "code",
        "id": "qeyM4_lnYrCD",
        "outputId": "bf91e675-1954-49c4-9d13-aee0efc0bc19",
        "colab": {
          "base_uri": "https://localhost:8080/",
          "height": 792
        }
      },
      "cell_type": "code",
      "source": [
        "def get_feature(url):\n",
        "    #br2.get(url)\n",
        "    page2 = requests.get(url)\n",
        "    time.sleep(10)\n",
        "    #fuente = br2.page_source.encode('utf-8')\n",
        "    fuente = str(page2.content)\n",
        "    try:\n",
        "        atrivutos = str(fuente).split(\"vip-product-info__attributes-list\")[1].split(\"</section>\")[0]\n",
        "    except:\n",
        "        #br2.get(url)\n",
        "        page2 = requests.get(url)\n",
        "        time.sleep(10)\n",
        "        #fuente = br2.page_source.encode('utf-8')\n",
        "        fuente = str(page2.content)\n",
        "        try:\n",
        "            atrivutos = str(fuente).split(\"vip-product-info__attributes-list\")[1].split(\"</section>\")[0]\n",
        "        except:\n",
        "            atrivutos = 0\n",
        "    try:\n",
        "        area = atrivutos.split('vip-product-info__attribute-value\">')[1].split(\" \")[0]\n",
        "    except:\n",
        "        area = 0\n",
        "    try:\n",
        "        habitaciones = atrivutos.split('vip-product-info__attribute-value\">')[2].split(\"<\")[0]\n",
        "    except:\n",
        "        habitaciones = 0\n",
        "    try:\n",
        "        banos = atrivutos.split('vip-product-info__attribute-value\">')[3].split(\"<\")[0]\n",
        "    except:\n",
        "        banos = 0\n",
        "    try:\n",
        "        mapa = str(fuente).split('https://maps.googleapis.com/maps/api/staticmap?center=')[1].split(\"&\")[0].split(\"%2C\")\n",
        "    except:\n",
        "        mapa = ['6.267780', '-75.581565']\n",
        "    try:\n",
        "        descripcion = fuente.split('vip-section-description container\">')[1].split(\"</section>\")[0]\n",
        "    except:\n",
        "        descripcion = 0\n",
        "    try:\n",
        "        imagens0 = str(fuente).split(\"playedVideoTime = 0\")[1].split(\"items =\")[1].split(\"]\")[0].split(\"[\")[1]\n",
        "        imagens = [i[\"src\"] for i in eval(imagens0)]\n",
        "    except:\n",
        "        imagens = 0\n",
        "    #print(area, habitaciones, banos, mapa)\n",
        "    #print(descripcion)\n",
        "    return [area, habitaciones, banos, mapa, descripcion,imagens]\n",
        "\n",
        "\n",
        "url = \"https://inmuebles.mercadolibre.com.co/apartamentos/venta/antioquia/medellin/_OrderId_PRICE\"\n",
        "#url = \"https://inmuebles.mercadolibre.com.co/apartamentos/venta/antioquia/medellin/_Desde_240_OrderId_PRICE\"\n",
        "#url = \"https://inmuebles.mercadolibre.com.co/apartamentos/venta/antioquia/medellin/_Desde_442_OrderId_PRICE\"\n",
        "\n",
        "#display = Display(visible=0, size=(3000, 1600))\n",
        "#display.start()\n",
        "\n",
        "#chrome_options = Options()\n",
        "#chrome_options.add_argument(\"--dns-prefetch-disable\")\n",
        "#chrome_options.add_argument('--no-sandbox')\n",
        "#service_log_path = \"./chromedriver.log\"\n",
        "#service_args = ['--verbose']\n",
        "\n",
        "#br = webdriver.Chrome(\"./chromedriver\", chrome_options=chrome_options, service_args=service_args, service_log_path=service_log_path)\n",
        "#br2 = webdriver.Chrome(\"./chromedriver\", chrome_options=chrome_options)\n",
        "\n",
        "Name='screenshot.png'\n",
        "#time.sleep(5)\n",
        "#br.save_screenshot(Name)\n",
        "\n",
        "\n",
        "\n",
        "for k in range(43):\n",
        "    page = requests.get(url)\n",
        "    #br.get(url)\n",
        "    time.sleep(5)\n",
        "    \n",
        "    #print len(str(br.page_source.encode('utf-8')).split(\"searchResults\"))\n",
        "    if len(str(page.content).split(\"searchResults\")) == 1:\n",
        "        print(\"termino\")\n",
        "        break\n",
        "\n",
        "    fuente = str(page.content).split(\"searchResults\")[1].split(\"item-url\")\n",
        "    fuente.pop(0)\n",
        "\n",
        "    for link in fuente:\n",
        "        links.append(link.split(\" \")[0].split('\"')[1])\n",
        "        precios.append(int(link.split('price__fraction\">')[1].split('<')[0].replace('.', '')))\n",
        "        \n",
        "        atrivutos = get_feature(links[-1])\n",
        "        area.append(atrivutos[0])\n",
        "        habitaciones.append(atrivutos[1])\n",
        "        banos.append(atrivutos[2])\n",
        "        mapa.append(atrivutos[3])\n",
        "        descripcion.append(atrivutos[4])\n",
        "        imagens.append(atrivutos[5])\n",
        "        #print \"- \"+links[-1]+\" - \"+str(precios[-1])\n",
        "        \n",
        "        clear_output(wait=True)\n",
        "        \n",
        "        df = pd.DataFrame(\n",
        "            {   \"link\": links,\n",
        "                \"precio\": precios,\n",
        "                \"area\": area,\n",
        "                \"habitaciones\": habitaciones,\n",
        "                \"banos\": banos,\n",
        "                \"mapa\": mapa,\n",
        "                \"descripcion\": descripcion,\n",
        "                \"imagens\":imagens,\n",
        "            })\n",
        "        for i in range(len(df[\"link\"])):\n",
        "            ponto = \"[ '\"+str(i)+\"<br>Precio:\"+str(df[\"precio\"][i])+\"<br>Area:\"+str(df[\"area\"][i])+\"<br>Habitaciones:\"+str(df[\"habitaciones\"][i])+\"<br>Banos:\"+str(df[\"banos\"][i])+\"', \"+str(df[\"mapa\"][i][0])+\",\"+str(df[\"mapa\"][i][1])+\",\"+str(i)+\"],\"\n",
        "            print(ponto)\n",
        "            #print i, df[\"link\"][i], df[\"precio\"][i],  df[\"area\"][i], df[\"habitaciones\"][i],  df[\"banos\"][i]\n",
        "            #print \"\"\n",
        "        #print(df[[\"link\",\"precio\",\"area\",\"habitaciones\",\"mapa\"]])\n",
        "\n",
        "#        link_map = [\"http://econym.org.uk/gmap/example_plotpoints.htm\"]\n",
        "#        for i in range(len(df[\"precio\"])):\n",
        "#            if i == 0:\n",
        "#                link_map.append(\"?q=\"+str(i)+\n",
        "#                                \"<br>Precio:\"+str(df[\"precio\"][i])+\n",
        "#                                \"<br>Area:\"+str(df[\"area\"][i])+\n",
        "#                                \"<br>Habitaciones:\"+str(df[\"habitaciones\"][i])+\n",
        "#                                \"<br>Banos:\"+str(df[\"banos\"][i])+\n",
        "#                                \"@\"+str(df[\"mapa\"][i][0])+\",\"+str(df[\"mapa\"][i][1]))\n",
        "#            else:\n",
        "#                link_map.append(\"&q=\"+str(i)+\n",
        "#                                \"<br>Precio:\"+str(df[\"precio\"][i])+\n",
        "#                                \"<br>Area:\"+str(df[\"area\"][i])+\n",
        "#                                \"<br>Habitaciones:\"+str(df[\"habitaciones\"][i])+\n",
        "#                                \"<br>Banos:\"+str(df[\"banos\"][i])+\n",
        "#                                \"@\"+str(df[\"mapa\"][i][0])+\",\"+str(df[\"mapa\"][i][1]))\n",
        "#\n",
        "#        print \"\".join(link_map)\n",
        "\n",
        "    print(\"_________________________________________________________\")\n",
        "    #url = str(page.content).split(\"andes-pagination__button andes-pagination__button--next\")[1].split('href=\"')[1].split('\"')[0]\n",
        "    url = \"https://listado.mercadolibre.com.co/inmuebles/apartamentos/venta/antioquia/medellin/_Desde_\"+str(df.shape[0]+1)+\"_OrderId_PRICE\"\n",
        "    print(url)\n",
        "    print(\"_________________________________________________________\")"
      ],
      "execution_count": 12,
      "outputs": [
        {
          "output_type": "stream",
          "text": [
            "[ '0<br>Precio:59900<br>Area:80<br>Habitaciones:4<br>Banos:1', 6.2738166,-75.58028,0],\n",
            "[ '1<br>Precio:220000<br>Area:82<br>Habitaciones:3<br>Banos:2', 6.236,-75.595,1],\n",
            "[ '2<br>Precio:430000<br>Area:86<br>Habitaciones:3<br>Banos:1', 6.2170176,-75.5661545,2],\n",
            "[ '3<br>Precio:480000<br>Area:148<br>Habitaciones:4<br>Banos:3', 6.244203,-75.5812119,3],\n",
            "[ '4<br>Precio:800000<br>Area:47<br>Habitaciones:2<br>Banos:1', 6.233581,-75.5489153,4],\n",
            "[ '5<br>Precio:1300000<br>Area:40<br>Habitaciones:1<br>Banos:1', 6.2442413,-75.5657673,5],\n",
            "[ '6<br>Precio:1400000<br>Area:210<br>Habitaciones:4<br>Banos:5', 6.2004637,-75.5701672,6],\n",
            "[ '7<br>Precio:1600000<br>Area:85<br>Habitaciones:3<br>Banos:3', 6.1461714,-75.6209428,7],\n",
            "[ '8<br>Precio:1600000<br>Area:72<br>Habitaciones:3<br>Banos:2', 6.2708272,-75.5921526,8],\n",
            "[ '9<br>Precio:2800000<br>Area:156<br>Habitaciones:3<br>Banos:4', 6.267780,-75.581565,9],\n",
            "[ '10<br>Precio:3000000<br>Area:113<br>Habitaciones:2<br>Banos:3', 6.267780,-75.581565,10],\n",
            "[ '11<br>Precio:3500000<br>Area:111<br>Habitaciones:2<br>Banos:3', 6.267780,-75.581565,11],\n",
            "[ '12<br>Precio:40000000<br>Area:52<br>Habitaciones:2<br>Banos:1', 6.2940226,-75.5381168,12],\n",
            "[ '13<br>Precio:48000000<br>Area:40<br>Habitaciones:1<br>Banos:1', 6.1870028,-75.6496416,13],\n",
            "[ '14<br>Precio:50000000<br>Area:40<br>Habitaciones:1<br>Banos:1', 6.1823689,-75.6579494,14],\n",
            "[ '15<br>Precio:53000000<br>Area:35<br>Habitaciones:1<br>Banos:1', 6.267780,-75.581565,15],\n",
            "[ '16<br>Precio:54000000<br>Area:38<br>Habitaciones:2<br>Banos:1', 6.1689548,-75.6098971,16],\n",
            "[ '17<br>Precio:54000000<br>Area:22<br>Habitaciones:1<br>Banos:1', 6.3367288,-75.5595887,17],\n",
            "[ '18<br>Precio:54000000<br>Area:22<br>Habitaciones:1<br>Banos:1', 6.3367288,-75.5595887,18],\n",
            "[ '19<br>Precio:54000000<br>Area:22<br>Habitaciones:1<br>Banos:1', 6.3367288,-75.5595887,19],\n",
            "[ '20<br>Precio:55000000<br>Area:40<br>Habitaciones:2<br>Banos:1', 6.248624,-75.5516879,20],\n",
            "[ '21<br>Precio:56000000<br>Area:50<br>Habitaciones:1<br>Banos:1', 6.287,-75.596,21],\n",
            "[ '22<br>Precio:58000000<br>Area:40<br>Habitaciones:2<br>Banos:1', 6.3058543,-75.5793956,22],\n",
            "[ '23<br>Precio:60000000<br>Area:21<br>Habitaciones:1<br>Banos:1', 6.28,-75.604,23],\n",
            "[ '24<br>Precio:60000000<br>Area:50<br>Habitaciones:2<br>Banos:1', 6.286,-75.576,24],\n",
            "[ '25<br>Precio:64000000<br>Area:48<br>Habitaciones:2<br>Banos:1', 6.3068061,-75.552902,25],\n"
          ],
          "name": "stdout"
        },
        {
          "output_type": "error",
          "ename": "KeyboardInterrupt",
          "evalue": "ignored",
          "traceback": [
            "\u001b[0;31m\u001b[0m",
            "\u001b[0;31mKeyboardInterrupt\u001b[0mTraceback (most recent call last)",
            "\u001b[0;32m<ipython-input-12-7ffe8c17f4a0>\u001b[0m in \u001b[0;36m<module>\u001b[0;34m()\u001b[0m\n\u001b[1;32m     86\u001b[0m         \u001b[0mprecios\u001b[0m\u001b[0;34m.\u001b[0m\u001b[0mappend\u001b[0m\u001b[0;34m(\u001b[0m\u001b[0mint\u001b[0m\u001b[0;34m(\u001b[0m\u001b[0mlink\u001b[0m\u001b[0;34m.\u001b[0m\u001b[0msplit\u001b[0m\u001b[0;34m(\u001b[0m\u001b[0;34m'price__fraction\">'\u001b[0m\u001b[0;34m)\u001b[0m\u001b[0;34m[\u001b[0m\u001b[0;36m1\u001b[0m\u001b[0;34m]\u001b[0m\u001b[0;34m.\u001b[0m\u001b[0msplit\u001b[0m\u001b[0;34m(\u001b[0m\u001b[0;34m'<'\u001b[0m\u001b[0;34m)\u001b[0m\u001b[0;34m[\u001b[0m\u001b[0;36m0\u001b[0m\u001b[0;34m]\u001b[0m\u001b[0;34m.\u001b[0m\u001b[0mreplace\u001b[0m\u001b[0;34m(\u001b[0m\u001b[0;34m'.'\u001b[0m\u001b[0;34m,\u001b[0m \u001b[0;34m''\u001b[0m\u001b[0;34m)\u001b[0m\u001b[0;34m)\u001b[0m\u001b[0;34m)\u001b[0m\u001b[0;34m\u001b[0m\u001b[0m\n\u001b[1;32m     87\u001b[0m \u001b[0;34m\u001b[0m\u001b[0m\n\u001b[0;32m---> 88\u001b[0;31m         \u001b[0matrivutos\u001b[0m \u001b[0;34m=\u001b[0m \u001b[0mget_feature\u001b[0m\u001b[0;34m(\u001b[0m\u001b[0mlinks\u001b[0m\u001b[0;34m[\u001b[0m\u001b[0;34m-\u001b[0m\u001b[0;36m1\u001b[0m\u001b[0;34m]\u001b[0m\u001b[0;34m)\u001b[0m\u001b[0;34m\u001b[0m\u001b[0m\n\u001b[0m\u001b[1;32m     89\u001b[0m         \u001b[0marea\u001b[0m\u001b[0;34m.\u001b[0m\u001b[0mappend\u001b[0m\u001b[0;34m(\u001b[0m\u001b[0matrivutos\u001b[0m\u001b[0;34m[\u001b[0m\u001b[0;36m0\u001b[0m\u001b[0;34m]\u001b[0m\u001b[0;34m)\u001b[0m\u001b[0;34m\u001b[0m\u001b[0m\n\u001b[1;32m     90\u001b[0m         \u001b[0mhabitaciones\u001b[0m\u001b[0;34m.\u001b[0m\u001b[0mappend\u001b[0m\u001b[0;34m(\u001b[0m\u001b[0matrivutos\u001b[0m\u001b[0;34m[\u001b[0m\u001b[0;36m1\u001b[0m\u001b[0;34m]\u001b[0m\u001b[0;34m)\u001b[0m\u001b[0;34m\u001b[0m\u001b[0m\n",
            "\u001b[0;32m<ipython-input-12-7ffe8c17f4a0>\u001b[0m in \u001b[0;36mget_feature\u001b[0;34m(url)\u001b[0m\n\u001b[1;32m      2\u001b[0m     \u001b[0;31m#br2.get(url)\u001b[0m\u001b[0;34m\u001b[0m\u001b[0;34m\u001b[0m\u001b[0m\n\u001b[1;32m      3\u001b[0m     \u001b[0mpage2\u001b[0m \u001b[0;34m=\u001b[0m \u001b[0mrequests\u001b[0m\u001b[0;34m.\u001b[0m\u001b[0mget\u001b[0m\u001b[0;34m(\u001b[0m\u001b[0murl\u001b[0m\u001b[0;34m)\u001b[0m\u001b[0;34m\u001b[0m\u001b[0m\n\u001b[0;32m----> 4\u001b[0;31m     \u001b[0mtime\u001b[0m\u001b[0;34m.\u001b[0m\u001b[0msleep\u001b[0m\u001b[0;34m(\u001b[0m\u001b[0;36m10\u001b[0m\u001b[0;34m)\u001b[0m\u001b[0;34m\u001b[0m\u001b[0m\n\u001b[0m\u001b[1;32m      5\u001b[0m     \u001b[0;31m#fuente = br2.page_source.encode('utf-8')\u001b[0m\u001b[0;34m\u001b[0m\u001b[0;34m\u001b[0m\u001b[0m\n\u001b[1;32m      6\u001b[0m     \u001b[0mfuente\u001b[0m \u001b[0;34m=\u001b[0m \u001b[0mstr\u001b[0m\u001b[0;34m(\u001b[0m\u001b[0mpage2\u001b[0m\u001b[0;34m.\u001b[0m\u001b[0mcontent\u001b[0m\u001b[0;34m)\u001b[0m\u001b[0;34m\u001b[0m\u001b[0m\n",
            "\u001b[0;31mKeyboardInterrupt\u001b[0m: "
          ]
        }
      ]
    },
    {
      "metadata": {
        "colab_type": "code",
        "id": "ATzcrfInb9en",
        "outputId": "91aa1357-b3d7-48f1-d08c-eb08741e721b",
        "colab": {
          "base_uri": "https://localhost:8080/",
          "height": 642
        }
      },
      "cell_type": "code",
      "source": [
        "pd.read_html(df.head()[\"descripcion\"])"
      ],
      "execution_count": 15,
      "outputs": [
        {
          "output_type": "error",
          "ename": "ImportError",
          "evalue": "ignored",
          "traceback": [
            "\u001b[0;31m\u001b[0m",
            "\u001b[0;31mImportError\u001b[0mTraceback (most recent call last)",
            "\u001b[0;32m<ipython-input-15-6c3b800fe3a8>\u001b[0m in \u001b[0;36m<module>\u001b[0;34m()\u001b[0m\n\u001b[0;32m----> 1\u001b[0;31m \u001b[0mpd\u001b[0m\u001b[0;34m.\u001b[0m\u001b[0mread_html\u001b[0m\u001b[0;34m(\u001b[0m\u001b[0mdf\u001b[0m\u001b[0;34m.\u001b[0m\u001b[0mhead\u001b[0m\u001b[0;34m(\u001b[0m\u001b[0;34m)\u001b[0m\u001b[0;34m[\u001b[0m\u001b[0;34m\"descripcion\"\u001b[0m\u001b[0;34m]\u001b[0m\u001b[0;34m)\u001b[0m\u001b[0;34m\u001b[0m\u001b[0m\n\u001b[0m",
            "\u001b[0;32m/usr/local/lib/python2.7/dist-packages/pandas/io/html.pyc\u001b[0m in \u001b[0;36mread_html\u001b[0;34m(io, match, flavor, header, index_col, skiprows, attrs, parse_dates, tupleize_cols, thousands, encoding, decimal, converters, na_values, keep_default_na)\u001b[0m\n\u001b[1;32m    913\u001b[0m                   \u001b[0mthousands\u001b[0m\u001b[0;34m=\u001b[0m\u001b[0mthousands\u001b[0m\u001b[0;34m,\u001b[0m \u001b[0mattrs\u001b[0m\u001b[0;34m=\u001b[0m\u001b[0mattrs\u001b[0m\u001b[0;34m,\u001b[0m \u001b[0mencoding\u001b[0m\u001b[0;34m=\u001b[0m\u001b[0mencoding\u001b[0m\u001b[0;34m,\u001b[0m\u001b[0;34m\u001b[0m\u001b[0m\n\u001b[1;32m    914\u001b[0m                   \u001b[0mdecimal\u001b[0m\u001b[0;34m=\u001b[0m\u001b[0mdecimal\u001b[0m\u001b[0;34m,\u001b[0m \u001b[0mconverters\u001b[0m\u001b[0;34m=\u001b[0m\u001b[0mconverters\u001b[0m\u001b[0;34m,\u001b[0m \u001b[0mna_values\u001b[0m\u001b[0;34m=\u001b[0m\u001b[0mna_values\u001b[0m\u001b[0;34m,\u001b[0m\u001b[0;34m\u001b[0m\u001b[0m\n\u001b[0;32m--> 915\u001b[0;31m                   keep_default_na=keep_default_na)\n\u001b[0m",
            "\u001b[0;32m/usr/local/lib/python2.7/dist-packages/pandas/io/html.pyc\u001b[0m in \u001b[0;36m_parse\u001b[0;34m(flavor, io, match, attrs, encoding, **kwargs)\u001b[0m\n\u001b[1;32m    737\u001b[0m     \u001b[0mretained\u001b[0m \u001b[0;34m=\u001b[0m \u001b[0mNone\u001b[0m\u001b[0;34m\u001b[0m\u001b[0m\n\u001b[1;32m    738\u001b[0m     \u001b[0;32mfor\u001b[0m \u001b[0mflav\u001b[0m \u001b[0;32min\u001b[0m \u001b[0mflavor\u001b[0m\u001b[0;34m:\u001b[0m\u001b[0;34m\u001b[0m\u001b[0m\n\u001b[0;32m--> 739\u001b[0;31m         \u001b[0mparser\u001b[0m \u001b[0;34m=\u001b[0m \u001b[0m_parser_dispatch\u001b[0m\u001b[0;34m(\u001b[0m\u001b[0mflav\u001b[0m\u001b[0;34m)\u001b[0m\u001b[0;34m\u001b[0m\u001b[0m\n\u001b[0m\u001b[1;32m    740\u001b[0m         \u001b[0mp\u001b[0m \u001b[0;34m=\u001b[0m \u001b[0mparser\u001b[0m\u001b[0;34m(\u001b[0m\u001b[0mio\u001b[0m\u001b[0;34m,\u001b[0m \u001b[0mcompiled_match\u001b[0m\u001b[0;34m,\u001b[0m \u001b[0mattrs\u001b[0m\u001b[0;34m,\u001b[0m \u001b[0mencoding\u001b[0m\u001b[0;34m)\u001b[0m\u001b[0;34m\u001b[0m\u001b[0m\n\u001b[1;32m    741\u001b[0m \u001b[0;34m\u001b[0m\u001b[0m\n",
            "\u001b[0;32m/usr/local/lib/python2.7/dist-packages/pandas/io/html.pyc\u001b[0m in \u001b[0;36m_parser_dispatch\u001b[0;34m(flavor)\u001b[0m\n\u001b[1;32m    695\u001b[0m     \u001b[0;32melse\u001b[0m\u001b[0;34m:\u001b[0m\u001b[0;34m\u001b[0m\u001b[0m\n\u001b[1;32m    696\u001b[0m         \u001b[0;32mif\u001b[0m \u001b[0;32mnot\u001b[0m \u001b[0m_HAS_LXML\u001b[0m\u001b[0;34m:\u001b[0m\u001b[0;34m\u001b[0m\u001b[0m\n\u001b[0;32m--> 697\u001b[0;31m             \u001b[0;32mraise\u001b[0m \u001b[0mImportError\u001b[0m\u001b[0;34m(\u001b[0m\u001b[0;34m\"lxml not found, please install it\"\u001b[0m\u001b[0;34m)\u001b[0m\u001b[0;34m\u001b[0m\u001b[0m\n\u001b[0m\u001b[1;32m    698\u001b[0m     \u001b[0;32mreturn\u001b[0m \u001b[0m_valid_parsers\u001b[0m\u001b[0;34m[\u001b[0m\u001b[0mflavor\u001b[0m\u001b[0;34m]\u001b[0m\u001b[0;34m\u001b[0m\u001b[0m\n\u001b[1;32m    699\u001b[0m \u001b[0;34m\u001b[0m\u001b[0m\n",
            "\u001b[0;31mImportError\u001b[0m: lxml not found, please install it",
            "",
            "\u001b[0;31m---------------------------------------------------------------------------\u001b[0;32m\nNOTE: If your import is failing due to a missing package, you can\nmanually install dependencies using either !pip or !apt.\n\nTo view examples of installing some common dependencies, click the\n\"Open Examples\" button below.\n\u001b[0;31m---------------------------------------------------------------------------\u001b[0m\n"
          ]
        }
      ]
    }
  ]
}
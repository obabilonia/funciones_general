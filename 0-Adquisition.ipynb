{
  "nbformat": 4,
  "nbformat_minor": 0,
  "metadata": {
    "colab": {
      "name": "Adquisition.ipynb",
      "version": "0.3.2",
      "provenance": [],
      "include_colab_link": true
    },
    "kernelspec": {
      "display_name": "Python [conda env:py36]",
      "language": "python",
      "name": "conda-env-py36-py"
    }
  },
  "cells": [
    {
      "cell_type": "markdown",
      "metadata": {
        "id": "view-in-github",
        "colab_type": "text"
      },
      "source": [
        "<a href=\"https://colab.research.google.com/github/obabilonia/test1/blob/master/0-Adquisition.ipynb\" target=\"_parent\"><img src=\"https://colab.research.google.com/assets/colab-badge.svg\" alt=\"Open In Colab\"/></a>"
      ]
    },
    {
      "metadata": {
        "id": "KR-vm8gyAYS0",
        "colab_type": "text"
      },
      "cell_type": "markdown",
      "source": [
        "# Parte 1: Adquisicion de datos"
      ]
    },
    {
      "metadata": {
        "colab_type": "code",
        "id": "skm6PqOoS-lD",
        "colab": {}
      },
      "cell_type": "code",
      "source": [
        "#!pip install pyvirtualdisplay"
      ],
      "execution_count": 0,
      "outputs": []
    },
    {
      "metadata": {
        "colab_type": "code",
        "id": "a-7QUnSxTDup",
        "colab": {}
      },
      "cell_type": "code",
      "source": [
        "#!pip install unidecode"
      ],
      "execution_count": 0,
      "outputs": []
    },
    {
      "metadata": {
        "colab_type": "code",
        "id": "37gXOm-IRpiN",
        "colab": {}
      },
      "cell_type": "code",
      "source": [
        "#!apt-get install libnss3=2:3.26.2-1.1+deb9u1 #libglib2.0-0 libgconf-2-4=3.2.6-4+b1 libfontconfig1=2.11.0-6.7+b1"
      ],
      "execution_count": 0,
      "outputs": []
    },
    {
      "metadata": {
        "colab_type": "code",
        "id": "dbUu6CCdVSae",
        "colab": {}
      },
      "cell_type": "code",
      "source": [
        "#! lscpu"
      ],
      "execution_count": 0,
      "outputs": []
    },
    {
      "metadata": {
        "colab_type": "code",
        "id": "tECix7jAUCFu",
        "colab": {}
      },
      "cell_type": "code",
      "source": [
        "#!apt-get install libxi6 libgconf-2-4"
      ],
      "execution_count": 0,
      "outputs": []
    },
    {
      "metadata": {
        "colab_type": "code",
        "id": "7wdHJNoON3Gs",
        "colab": {}
      },
      "cell_type": "code",
      "source": [
        "#page = requests.get(\"https://www.dataquest.io/blog/web-scraping-tutorial-python/\")\n",
        "#page.content"
      ],
      "execution_count": 0,
      "outputs": []
    },
    {
      "metadata": {
        "id": "RyYHABTCARXk",
        "colab_type": "code",
        "colab": {}
      },
      "cell_type": "code",
      "source": [
        "#!pip install requests"
      ],
      "execution_count": 0,
      "outputs": []
    },
    {
      "metadata": {
        "id": "6gcWF8P7ARXo",
        "colab_type": "code",
        "colab": {}
      },
      "cell_type": "code",
      "source": [
        "#!pip install --upgrade pip"
      ],
      "execution_count": 0,
      "outputs": []
    },
    {
      "metadata": {
        "colab_type": "code",
        "id": "SFUVU70mPmxW",
        "colab": {}
      },
      "cell_type": "code",
      "source": [
        "import requests\n",
        "import pandas as pd\n",
        "import os\n",
        "#from selenium import webdriver\n",
        "#from selenium.webdriver.support.ui import Select\n",
        "import time\n",
        "from PIL import Image\n",
        "import subprocess\n",
        "#import commands\n",
        "import pickle\n",
        "#from selenium.webdriver.chrome.options import Options\n",
        "from pyvirtualdisplay import Display\n",
        "from IPython.display import clear_output\n",
        "import matplotlib.pyplot as plt\n",
        "from unidecode import unidecode\n",
        "%matplotlib inline"
      ],
      "execution_count": 0,
      "outputs": []
    },
    {
      "metadata": {
        "colab_type": "code",
        "id": "6CWoO7B_YnQM",
        "colab": {}
      },
      "cell_type": "code",
      "source": [
        "links = []\n",
        "precios = []\n",
        "area = []\n",
        "habitaciones = []\n",
        "banos = []\n",
        "mapa = []\n",
        "descripcion = []\n",
        "imagens = []"
      ],
      "execution_count": 0,
      "outputs": []
    },
    {
      "metadata": {
        "colab_type": "code",
        "id": "qeyM4_lnYrCD",
        "outputId": "34a60753-2bef-41a6-83c8-ee6243d2574d",
        "colab": {
          "base_uri": "https://localhost:8080/",
          "height": 391
        }
      },
      "cell_type": "code",
      "source": [
        "def get_feature(url):\n",
        "    #br2.get(url)\n",
        "    page2 = requests.get(url)\n",
        "    time.sleep(10)\n",
        "    #fuente = br2.page_source.encode('utf-8')\n",
        "    fuente = str(page2.content)\n",
        "    try:\n",
        "        atrivutos = str(fuente).split(\"vip-product-info__attributes-list\")[1].split(\"</section>\")[0]\n",
        "    except:\n",
        "        #br2.get(url)\n",
        "        page2 = requests.get(url)\n",
        "        time.sleep(10)\n",
        "        #fuente = br2.page_source.encode('utf-8')\n",
        "        fuente = str(page2.content)\n",
        "        try:\n",
        "            atrivutos = str(fuente).split(\"vip-product-info__attributes-list\")[1].split(\"</section>\")[0]\n",
        "        except:\n",
        "            atrivutos = 0\n",
        "    try:\n",
        "        area = atrivutos.split('vip-product-info__attribute-value\">')[1].split(\" \")[0]\n",
        "    except:\n",
        "        area = 0\n",
        "    try:\n",
        "        habitaciones = atrivutos.split('vip-product-info__attribute-value\">')[2].split(\"<\")[0]\n",
        "    except:\n",
        "        habitaciones = 0\n",
        "    try:\n",
        "        banos = atrivutos.split('vip-product-info__attribute-value\">')[3].split(\"<\")[0]\n",
        "    except:\n",
        "        banos = 0\n",
        "    try:\n",
        "        mapa = str(fuente).split('https://maps.googleapis.com/maps/api/staticmap?center=')[1].split(\"&\")[0].split(\"%2C\")\n",
        "    except:\n",
        "        mapa = ['6.267780', '-75.581565']\n",
        "    try:\n",
        "        descripcion = fuente.split('vip-section-description container\">')[1].split(\"</section>\")[0]\n",
        "    except:\n",
        "        descripcion = 0\n",
        "    try:\n",
        "        imagens0 = str(fuente).split(\"playedVideoTime = 0\")[1].split(\"items =\")[1].split(\"]\")[0].split(\"[\")[1]\n",
        "        imagens = [i[\"src\"] for i in eval(imagens0)]\n",
        "    except:\n",
        "        imagens = 0\n",
        "    #print(area, habitaciones, banos, mapa)\n",
        "    #print(descripcion)\n",
        "    return [area, habitaciones, banos, mapa, descripcion,imagens]\n",
        "\n",
        "\n",
        "url = \"https://inmuebles.mercadolibre.com.co/apartamentos/venta/antioquia/medellin/_OrderId_PRICE\"\n",
        "#url = \"https://inmuebles.mercadolibre.com.co/apartamentos/venta/antioquia/medellin/_Desde_240_OrderId_PRICE\"\n",
        "#url = \"https://inmuebles.mercadolibre.com.co/apartamentos/venta/antioquia/medellin/_Desde_442_OrderId_PRICE\"\n",
        "\n",
        "#display = Display(visible=0, size=(3000, 1600))\n",
        "#display.start()\n",
        "\n",
        "#chrome_options = Options()\n",
        "#chrome_options.add_argument(\"--dns-prefetch-disable\")\n",
        "#chrome_options.add_argument('--no-sandbox')\n",
        "#service_log_path = \"./chromedriver.log\"\n",
        "#service_args = ['--verbose']\n",
        "\n",
        "#br = webdriver.Chrome(\"./chromedriver\", chrome_options=chrome_options, service_args=service_args, service_log_path=service_log_path)\n",
        "#br2 = webdriver.Chrome(\"./chromedriver\", chrome_options=chrome_options)\n",
        "\n",
        "Name='screenshot.png'\n",
        "#time.sleep(5)\n",
        "#br.save_screenshot(Name)\n",
        "\n",
        "\n",
        "\n",
        "for k in range(43):\n",
        "    page = requests.get(url)\n",
        "    #br.get(url)\n",
        "    time.sleep(5)\n",
        "    \n",
        "    #print len(str(br.page_source.encode('utf-8')).split(\"searchResults\"))\n",
        "    if len(str(page.content).split(\"searchResults\")) == 1:\n",
        "        print(\"termino\")\n",
        "        break\n",
        "\n",
        "    fuente = str(page.content).split(\"searchResults\")[1].split(\"item-url\")\n",
        "    fuente.pop(0)\n",
        "\n",
        "    for link in fuente:\n",
        "        links.append(link.split(\" \")[0].split('\"')[1])\n",
        "        precios.append(int(link.split('price__fraction\">')[1].split('<')[0].replace('.', '')))\n",
        "        \n",
        "        atrivutos = get_feature(links[-1])\n",
        "        area.append(atrivutos[0])\n",
        "        habitaciones.append(atrivutos[1])\n",
        "        banos.append(atrivutos[2])\n",
        "        mapa.append(atrivutos[3])\n",
        "        descripcion.append(atrivutos[4])\n",
        "        imagens.append(atrivutos[5])\n",
        "        #print \"- \"+links[-1]+\" - \"+str(precios[-1])\n",
        "        \n",
        "        clear_output(wait=True)\n",
        "        \n",
        "        df = pd.DataFrame(\n",
        "            {   \"link\": links,\n",
        "                \"precio\": precios,\n",
        "                \"area\": area,\n",
        "                \"habitaciones\": habitaciones,\n",
        "                \"banos\": banos,\n",
        "                \"mapa\": mapa,\n",
        "                \"descripcion\": descripcion,\n",
        "                \"imagens\":imagens,\n",
        "            })\n",
        "        for i in range(len(df[\"link\"])):\n",
        "            ponto = \"[ '\"+str(i)+\"<br>Precio:\"+str(df[\"precio\"][i])+\"<br>Area:\"+str(df[\"area\"][i])+\"<br>Habitaciones:\"+str(df[\"habitaciones\"][i])+\"<br>Banos:\"+str(df[\"banos\"][i])+\"', \"+str(df[\"mapa\"][i][0])+\",\"+str(df[\"mapa\"][i][1])+\",\"+str(i)+\"],\"\n",
        "            print(ponto)\n",
        "            #print i, df[\"link\"][i], df[\"precio\"][i],  df[\"area\"][i], df[\"habitaciones\"][i],  df[\"banos\"][i]\n",
        "            #print \"\"\n",
        "        #print(df[[\"link\",\"precio\",\"area\",\"habitaciones\",\"mapa\"]])\n",
        "\n",
        "#        link_map = [\"http://econym.org.uk/gmap/example_plotpoints.htm\"]\n",
        "#        for i in range(len(df[\"precio\"])):\n",
        "#            if i == 0:\n",
        "#                link_map.append(\"?q=\"+str(i)+\n",
        "#                                \"<br>Precio:\"+str(df[\"precio\"][i])+\n",
        "#                                \"<br>Area:\"+str(df[\"area\"][i])+\n",
        "#                                \"<br>Habitaciones:\"+str(df[\"habitaciones\"][i])+\n",
        "#                                \"<br>Banos:\"+str(df[\"banos\"][i])+\n",
        "#                                \"@\"+str(df[\"mapa\"][i][0])+\",\"+str(df[\"mapa\"][i][1]))\n",
        "#            else:\n",
        "#                link_map.append(\"&q=\"+str(i)+\n",
        "#                                \"<br>Precio:\"+str(df[\"precio\"][i])+\n",
        "#                                \"<br>Area:\"+str(df[\"area\"][i])+\n",
        "#                                \"<br>Habitaciones:\"+str(df[\"habitaciones\"][i])+\n",
        "#                                \"<br>Banos:\"+str(df[\"banos\"][i])+\n",
        "#                                \"@\"+str(df[\"mapa\"][i][0])+\",\"+str(df[\"mapa\"][i][1]))\n",
        "#\n",
        "#        print \"\".join(link_map)\n",
        "\n",
        "    print(\"_________________________________________________________\")\n",
        "    #url = str(page.content).split(\"andes-pagination__button andes-pagination__button--next\")[1].split('href=\"')[1].split('\"')[0]\n",
        "    url = \"https://listado.mercadolibre.com.co/inmuebles/apartamentos/venta/antioquia/medellin/_Desde_\"+str(df.shape[0]+1)+\"_OrderId_PRICE\"\n",
        "    print(url)\n",
        "    print(\"_________________________________________________________\")"
      ],
      "execution_count": 0,
      "outputs": [
        {
          "output_type": "stream",
          "text": [
            "[ '0<br>Precio:59900<br>Area:80<br>Habitaciones:4<br>Banos:1', 6.2738166,-75.58028,0],\n",
            "[ '1<br>Precio:220000<br>Area:82<br>Habitaciones:3<br>Banos:2', 6.236,-75.595,1],\n",
            "[ '2<br>Precio:430000<br>Area:86<br>Habitaciones:3<br>Banos:1', 6.2170176,-75.5661545,2],\n",
            "[ '3<br>Precio:480000<br>Area:148<br>Habitaciones:4<br>Banos:3', 6.244203,-75.5812119,3],\n",
            "[ '4<br>Precio:800000<br>Area:47<br>Habitaciones:2<br>Banos:1', 6.233581,-75.5489153,4],\n",
            "[ '5<br>Precio:1300000<br>Area:40<br>Habitaciones:1<br>Banos:1', 6.2442413,-75.5657673,5],\n",
            "[ '6<br>Precio:1400000<br>Area:210<br>Habitaciones:4<br>Banos:5', 6.2004637,-75.5701672,6],\n",
            "[ '7<br>Precio:1600000<br>Area:85<br>Habitaciones:3<br>Banos:3', 6.1461714,-75.6209428,7],\n",
            "[ '8<br>Precio:1600000<br>Area:72<br>Habitaciones:3<br>Banos:2', 6.2708272,-75.5921526,8],\n",
            "[ '9<br>Precio:2800000<br>Area:156<br>Habitaciones:3<br>Banos:4', 6.267780,-75.581565,9],\n",
            "[ '10<br>Precio:3000000<br>Area:113<br>Habitaciones:2<br>Banos:3', 6.267780,-75.581565,10],\n",
            "[ '11<br>Precio:3500000<br>Area:111<br>Habitaciones:2<br>Banos:3', 6.267780,-75.581565,11],\n",
            "[ '12<br>Precio:40000000<br>Area:52<br>Habitaciones:2<br>Banos:1', 6.2940226,-75.5381168,12],\n",
            "[ '13<br>Precio:48000000<br>Area:40<br>Habitaciones:1<br>Banos:1', 6.1870028,-75.6496416,13],\n",
            "[ '14<br>Precio:50000000<br>Area:40<br>Habitaciones:1<br>Banos:1', 6.1823689,-75.6579494,14],\n",
            "[ '15<br>Precio:53000000<br>Area:35<br>Habitaciones:1<br>Banos:1', 6.267780,-75.581565,15],\n",
            "[ '16<br>Precio:54000000<br>Area:38<br>Habitaciones:2<br>Banos:1', 6.1689548,-75.6098971,16],\n",
            "[ '17<br>Precio:54000000<br>Area:22<br>Habitaciones:1<br>Banos:1', 6.3367288,-75.5595887,17],\n",
            "[ '18<br>Precio:54000000<br>Area:22<br>Habitaciones:1<br>Banos:1', 6.3367288,-75.5595887,18],\n",
            "[ '19<br>Precio:54000000<br>Area:22<br>Habitaciones:1<br>Banos:1', 6.3367288,-75.5595887,19],\n",
            "[ '20<br>Precio:55000000<br>Area:40<br>Habitaciones:2<br>Banos:1', 6.248624,-75.5516879,20],\n",
            "[ '21<br>Precio:56000000<br>Area:50<br>Habitaciones:1<br>Banos:1', 6.287,-75.596,21],\n"
          ],
          "name": "stdout"
        }
      ]
    },
    {
      "metadata": {
        "colab_type": "code",
        "id": "ATzcrfInb9en",
        "outputId": "e806e90b-cca9-405b-f906-753884757c77",
        "colab": {
          "base_uri": "https://localhost:8080/",
          "height": 309
        }
      },
      "cell_type": "code",
      "source": [
        "df.head()"
      ],
      "execution_count": 0,
      "outputs": [
        {
          "output_type": "execute_result",
          "data": {
            "text/html": [
              "<div>\n",
              "<style scoped>\n",
              "    .dataframe tbody tr th:only-of-type {\n",
              "        vertical-align: middle;\n",
              "    }\n",
              "\n",
              "    .dataframe tbody tr th {\n",
              "        vertical-align: top;\n",
              "    }\n",
              "\n",
              "    .dataframe thead th {\n",
              "        text-align: right;\n",
              "    }\n",
              "</style>\n",
              "<table border=\"1\" class=\"dataframe\">\n",
              "  <thead>\n",
              "    <tr style=\"text-align: right;\">\n",
              "      <th></th>\n",
              "      <th>area</th>\n",
              "      <th>banos</th>\n",
              "      <th>descripcion</th>\n",
              "      <th>habitaciones</th>\n",
              "      <th>imagens</th>\n",
              "      <th>link</th>\n",
              "      <th>mapa</th>\n",
              "      <th>precio</th>\n",
              "    </tr>\n",
              "  </thead>\n",
              "  <tbody>\n",
              "    <tr>\n",
              "      <th>0</th>\n",
              "      <td>80</td>\n",
              "      <td>1</td>\n",
              "      <td>\\n        \\n            &lt;div class=\"descriptio...</td>\n",
              "      <td>4</td>\n",
              "      <td>[https://http2.mlstatic.com/none-D_NQ_NP_9468-...</td>\n",
              "      <td>https://apartamento.mercadolibre.com.co/MCO-48...</td>\n",
              "      <td>[6.2738166, -75.58028]</td>\n",
              "      <td>59900</td>\n",
              "    </tr>\n",
              "    <tr>\n",
              "      <th>1</th>\n",
              "      <td>82</td>\n",
              "      <td>2</td>\n",
              "      <td>\\n        \\n            &lt;div class=\"descriptio...</td>\n",
              "      <td>3</td>\n",
              "      <td>[https://http2.mlstatic.com/none-D_NQ_NP_97742...</td>\n",
              "      <td>https://apartamento.mercadolibre.com.co/MCO-43...</td>\n",
              "      <td>[6.236, -75.595]</td>\n",
              "      <td>220000</td>\n",
              "    </tr>\n",
              "    <tr>\n",
              "      <th>2</th>\n",
              "      <td>86</td>\n",
              "      <td>1</td>\n",
              "      <td>\\n        \\n            &lt;div class=\"descriptio...</td>\n",
              "      <td>3</td>\n",
              "      <td>[https://http2.mlstatic.com/none-D_NQ_NP_64713...</td>\n",
              "      <td>https://apartamento.mercadolibre.com.co/MCO-45...</td>\n",
              "      <td>[6.2170176, -75.5661545]</td>\n",
              "      <td>430000</td>\n",
              "    </tr>\n",
              "    <tr>\n",
              "      <th>3</th>\n",
              "      <td>148</td>\n",
              "      <td>3</td>\n",
              "      <td>\\n        \\n            &lt;div class=\"descriptio...</td>\n",
              "      <td>4</td>\n",
              "      <td>[https://http2.mlstatic.com/none-D_NQ_NP_80875...</td>\n",
              "      <td>https://apartamento.mercadolibre.com.co/MCO-49...</td>\n",
              "      <td>[6.244203, -75.5812119]</td>\n",
              "      <td>480000</td>\n",
              "    </tr>\n",
              "    <tr>\n",
              "      <th>4</th>\n",
              "      <td>47</td>\n",
              "      <td>1</td>\n",
              "      <td>\\n        \\n            &lt;div class=\"descriptio...</td>\n",
              "      <td>2</td>\n",
              "      <td>[https://http2.mlstatic.com/none-D_NQ_NP_89709...</td>\n",
              "      <td>https://apartamento.mercadolibre.com.co/MCO-46...</td>\n",
              "      <td>[6.233581, -75.5489153]</td>\n",
              "      <td>800000</td>\n",
              "    </tr>\n",
              "  </tbody>\n",
              "</table>\n",
              "</div>"
            ],
            "text/plain": [
              "  area banos                                        descripcion habitaciones  \\\n",
              "0   80     1  \\n        \\n            <div class=\"descriptio...            4   \n",
              "1   82     2  \\n        \\n            <div class=\"descriptio...            3   \n",
              "2   86     1  \\n        \\n            <div class=\"descriptio...            3   \n",
              "3  148     3  \\n        \\n            <div class=\"descriptio...            4   \n",
              "4   47     1  \\n        \\n            <div class=\"descriptio...            2   \n",
              "\n",
              "                                             imagens  \\\n",
              "0  [https://http2.mlstatic.com/none-D_NQ_NP_9468-...   \n",
              "1  [https://http2.mlstatic.com/none-D_NQ_NP_97742...   \n",
              "2  [https://http2.mlstatic.com/none-D_NQ_NP_64713...   \n",
              "3  [https://http2.mlstatic.com/none-D_NQ_NP_80875...   \n",
              "4  [https://http2.mlstatic.com/none-D_NQ_NP_89709...   \n",
              "\n",
              "                                                link  \\\n",
              "0  https://apartamento.mercadolibre.com.co/MCO-48...   \n",
              "1  https://apartamento.mercadolibre.com.co/MCO-43...   \n",
              "2  https://apartamento.mercadolibre.com.co/MCO-45...   \n",
              "3  https://apartamento.mercadolibre.com.co/MCO-49...   \n",
              "4  https://apartamento.mercadolibre.com.co/MCO-46...   \n",
              "\n",
              "                       mapa  precio  \n",
              "0    [6.2738166, -75.58028]   59900  \n",
              "1          [6.236, -75.595]  220000  \n",
              "2  [6.2170176, -75.5661545]  430000  \n",
              "3   [6.244203, -75.5812119]  480000  \n",
              "4   [6.233581, -75.5489153]  800000  "
            ]
          },
          "metadata": {
            "tags": []
          },
          "execution_count": 83
        }
      ]
    }
  ]
}